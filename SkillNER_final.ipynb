{
  "cells": [
    {
      "cell_type": "markdown",
      "metadata": {
        "id": "FJ7veXnItxqd"
      },
      "source": [
        "## Import"
      ]
    },
    {
      "cell_type": "code",
      "execution_count": null,
      "metadata": {
        "id": "kizUmd3E21r1",
        "colab": {
          "base_uri": "https://localhost:8080/"
        },
        "outputId": "bd4bbe6c-088c-4511-a9cb-0e920e056c8c"
      },
      "outputs": [
        {
          "output_type": "stream",
          "name": "stdout",
          "text": [
            "Get:1 https://cloud.r-project.org/bin/linux/ubuntu bionic-cran40/ InRelease [3,626 B]\n",
            "Hit:2 http://archive.ubuntu.com/ubuntu bionic InRelease\n",
            "Get:3 http://archive.ubuntu.com/ubuntu bionic-updates InRelease [88.7 kB]\n",
            "Ign:4 https://developer.download.nvidia.com/compute/machine-learning/repos/ubuntu1804/x86_64  InRelease\n",
            "Get:5 https://developer.download.nvidia.com/compute/cuda/repos/ubuntu1804/x86_64  InRelease [1,581 B]\n",
            "Hit:6 https://developer.download.nvidia.com/compute/machine-learning/repos/ubuntu1804/x86_64  Release\n",
            "Get:7 http://security.ubuntu.com/ubuntu bionic-security InRelease [88.7 kB]\n",
            "Get:8 http://archive.ubuntu.com/ubuntu bionic-backports InRelease [83.3 kB]\n",
            "Get:9 http://ppa.launchpad.net/c2d4u.team/c2d4u4.0+/ubuntu bionic InRelease [15.9 kB]\n",
            "Hit:10 http://ppa.launchpad.net/cran/libgit2/ubuntu bionic InRelease\n",
            "Get:11 https://developer.download.nvidia.com/compute/cuda/repos/ubuntu1804/x86_64  Packages [1,082 kB]\n",
            "Hit:12 http://ppa.launchpad.net/deadsnakes/ppa/ubuntu bionic InRelease\n",
            "Hit:14 http://ppa.launchpad.net/graphics-drivers/ppa/ubuntu bionic InRelease\n",
            "Get:15 http://archive.ubuntu.com/ubuntu bionic-updates/main amd64 Packages [3,524 kB]\n",
            "Get:16 http://archive.ubuntu.com/ubuntu bionic-updates/universe amd64 Packages [2,342 kB]\n",
            "Get:17 http://ppa.launchpad.net/c2d4u.team/c2d4u4.0+/ubuntu bionic/main Sources [2,235 kB]\n",
            "Get:18 http://security.ubuntu.com/ubuntu bionic-security/main amd64 Packages [3,099 kB]\n",
            "Get:19 http://security.ubuntu.com/ubuntu bionic-security/universe amd64 Packages [1,568 kB]\n",
            "Get:20 http://ppa.launchpad.net/c2d4u.team/c2d4u4.0+/ubuntu bionic/main amd64 Packages [1,143 kB]\n",
            "Fetched 15.3 MB in 3s (4,628 kB/s)\n",
            "Reading package lists... Done\n",
            "Reading package lists... Done\n",
            "Building dependency tree       \n",
            "Reading state information... Done\n",
            "python-dev is already the newest version (2.7.15~rc1-1).\n",
            "g++ is already the newest version (4:7.4.0-1ubuntu2.3).\n",
            "g++ set to manually installed.\n",
            "python3-dev is already the newest version (3.6.7-1~18.04).\n",
            "python3-dev set to manually installed.\n",
            "The following package was automatically installed and is no longer required:\n",
            "  libnvidia-common-460\n",
            "Use 'apt autoremove' to remove it.\n",
            "The following additional packages will be installed:\n",
            "  fonts-dejavu-core fonts-dejavu-extra libatk-wrapper-java\n",
            "  libatk-wrapper-java-jni libgail-common libgail18 libgtk2.0-0 libgtk2.0-bin\n",
            "  libgtk2.0-common libxxf86dga1 openjdk-8-jdk-headless openjdk-8-jre\n",
            "  openjdk-8-jre-headless x11-utils\n",
            "Suggested packages:\n",
            "  gvfs openjdk-8-demo openjdk-8-source visualvm libnss-mdns\n",
            "  fonts-ipafont-gothic fonts-ipafont-mincho fonts-wqy-microhei\n",
            "  fonts-wqy-zenhei fonts-indic mesa-utils\n",
            "The following NEW packages will be installed:\n",
            "  fonts-dejavu-core fonts-dejavu-extra libatk-wrapper-java\n",
            "  libatk-wrapper-java-jni libgail-common libgail18 libgtk2.0-0 libgtk2.0-bin\n",
            "  libgtk2.0-common libxxf86dga1 openjdk-8-jdk openjdk-8-jdk-headless\n",
            "  openjdk-8-jre openjdk-8-jre-headless x11-utils\n",
            "0 upgraded, 15 newly installed, 0 to remove and 21 not upgraded.\n",
            "Need to get 45.9 MB of archives.\n",
            "After this operation, 166 MB of additional disk space will be used.\n",
            "Get:1 http://archive.ubuntu.com/ubuntu bionic/main amd64 libxxf86dga1 amd64 2:1.1.4-1 [13.7 kB]\n",
            "Get:2 http://archive.ubuntu.com/ubuntu bionic/main amd64 fonts-dejavu-core all 2.37-1 [1,041 kB]\n",
            "Get:3 http://archive.ubuntu.com/ubuntu bionic/main amd64 fonts-dejavu-extra all 2.37-1 [1,953 kB]\n",
            "Get:4 http://archive.ubuntu.com/ubuntu bionic/main amd64 x11-utils amd64 7.7+3build1 [196 kB]\n",
            "Get:5 http://archive.ubuntu.com/ubuntu bionic/main amd64 libatk-wrapper-java all 0.33.3-20ubuntu0.1 [34.7 kB]\n",
            "Get:6 http://archive.ubuntu.com/ubuntu bionic/main amd64 libatk-wrapper-java-jni amd64 0.33.3-20ubuntu0.1 [28.3 kB]\n",
            "Get:7 http://archive.ubuntu.com/ubuntu bionic/main amd64 libgtk2.0-common all 2.24.32-1ubuntu1 [125 kB]\n",
            "Get:8 http://archive.ubuntu.com/ubuntu bionic/main amd64 libgtk2.0-0 amd64 2.24.32-1ubuntu1 [1,769 kB]\n",
            "Get:9 http://archive.ubuntu.com/ubuntu bionic/main amd64 libgail18 amd64 2.24.32-1ubuntu1 [14.2 kB]\n",
            "Get:10 http://archive.ubuntu.com/ubuntu bionic/main amd64 libgail-common amd64 2.24.32-1ubuntu1 [112 kB]\n",
            "Get:11 http://archive.ubuntu.com/ubuntu bionic/main amd64 libgtk2.0-bin amd64 2.24.32-1ubuntu1 [7,536 B]\n",
            "Get:12 http://archive.ubuntu.com/ubuntu bionic-updates/universe amd64 openjdk-8-jre-headless amd64 8u352-ga-1~18.04 [28.3 MB]\n",
            "Get:13 http://archive.ubuntu.com/ubuntu bionic-updates/universe amd64 openjdk-8-jre amd64 8u352-ga-1~18.04 [69.9 kB]\n",
            "Get:14 http://archive.ubuntu.com/ubuntu bionic-updates/universe amd64 openjdk-8-jdk-headless amd64 8u352-ga-1~18.04 [8,288 kB]\n",
            "Get:15 http://archive.ubuntu.com/ubuntu bionic-updates/universe amd64 openjdk-8-jdk amd64 8u352-ga-1~18.04 [3,976 kB]\n",
            "Fetched 45.9 MB in 1s (36.0 MB/s)\n",
            "Selecting previously unselected package libxxf86dga1:amd64.\n",
            "(Reading database ... 124013 files and directories currently installed.)\n",
            "Preparing to unpack .../00-libxxf86dga1_2%3a1.1.4-1_amd64.deb ...\n",
            "Unpacking libxxf86dga1:amd64 (2:1.1.4-1) ...\n",
            "Selecting previously unselected package fonts-dejavu-core.\n",
            "Preparing to unpack .../01-fonts-dejavu-core_2.37-1_all.deb ...\n",
            "Unpacking fonts-dejavu-core (2.37-1) ...\n",
            "Selecting previously unselected package fonts-dejavu-extra.\n",
            "Preparing to unpack .../02-fonts-dejavu-extra_2.37-1_all.deb ...\n",
            "Unpacking fonts-dejavu-extra (2.37-1) ...\n",
            "Selecting previously unselected package x11-utils.\n",
            "Preparing to unpack .../03-x11-utils_7.7+3build1_amd64.deb ...\n",
            "Unpacking x11-utils (7.7+3build1) ...\n",
            "Selecting previously unselected package libatk-wrapper-java.\n",
            "Preparing to unpack .../04-libatk-wrapper-java_0.33.3-20ubuntu0.1_all.deb ...\n",
            "Unpacking libatk-wrapper-java (0.33.3-20ubuntu0.1) ...\n",
            "Selecting previously unselected package libatk-wrapper-java-jni:amd64.\n",
            "Preparing to unpack .../05-libatk-wrapper-java-jni_0.33.3-20ubuntu0.1_amd64.deb ...\n",
            "Unpacking libatk-wrapper-java-jni:amd64 (0.33.3-20ubuntu0.1) ...\n",
            "Selecting previously unselected package libgtk2.0-common.\n",
            "Preparing to unpack .../06-libgtk2.0-common_2.24.32-1ubuntu1_all.deb ...\n",
            "Unpacking libgtk2.0-common (2.24.32-1ubuntu1) ...\n",
            "Selecting previously unselected package libgtk2.0-0:amd64.\n",
            "Preparing to unpack .../07-libgtk2.0-0_2.24.32-1ubuntu1_amd64.deb ...\n",
            "Unpacking libgtk2.0-0:amd64 (2.24.32-1ubuntu1) ...\n",
            "Selecting previously unselected package libgail18:amd64.\n",
            "Preparing to unpack .../08-libgail18_2.24.32-1ubuntu1_amd64.deb ...\n",
            "Unpacking libgail18:amd64 (2.24.32-1ubuntu1) ...\n",
            "Selecting previously unselected package libgail-common:amd64.\n",
            "Preparing to unpack .../09-libgail-common_2.24.32-1ubuntu1_amd64.deb ...\n",
            "Unpacking libgail-common:amd64 (2.24.32-1ubuntu1) ...\n",
            "Selecting previously unselected package libgtk2.0-bin.\n",
            "Preparing to unpack .../10-libgtk2.0-bin_2.24.32-1ubuntu1_amd64.deb ...\n",
            "Unpacking libgtk2.0-bin (2.24.32-1ubuntu1) ...\n",
            "Selecting previously unselected package openjdk-8-jre-headless:amd64.\n",
            "Preparing to unpack .../11-openjdk-8-jre-headless_8u352-ga-1~18.04_amd64.deb ...\n",
            "Unpacking openjdk-8-jre-headless:amd64 (8u352-ga-1~18.04) ...\n",
            "Selecting previously unselected package openjdk-8-jre:amd64.\n",
            "Preparing to unpack .../12-openjdk-8-jre_8u352-ga-1~18.04_amd64.deb ...\n",
            "Unpacking openjdk-8-jre:amd64 (8u352-ga-1~18.04) ...\n",
            "Selecting previously unselected package openjdk-8-jdk-headless:amd64.\n",
            "Preparing to unpack .../13-openjdk-8-jdk-headless_8u352-ga-1~18.04_amd64.deb ...\n",
            "Unpacking openjdk-8-jdk-headless:amd64 (8u352-ga-1~18.04) ...\n",
            "Selecting previously unselected package openjdk-8-jdk:amd64.\n",
            "Preparing to unpack .../14-openjdk-8-jdk_8u352-ga-1~18.04_amd64.deb ...\n",
            "Unpacking openjdk-8-jdk:amd64 (8u352-ga-1~18.04) ...\n",
            "Setting up libgtk2.0-common (2.24.32-1ubuntu1) ...\n",
            "Setting up fonts-dejavu-core (2.37-1) ...\n",
            "Setting up libxxf86dga1:amd64 (2:1.1.4-1) ...\n",
            "Setting up fonts-dejavu-extra (2.37-1) ...\n",
            "Setting up openjdk-8-jre-headless:amd64 (8u352-ga-1~18.04) ...\n",
            "update-alternatives: using /usr/lib/jvm/java-8-openjdk-amd64/jre/bin/orbd to provide /usr/bin/orbd (orbd) in auto mode\n",
            "update-alternatives: using /usr/lib/jvm/java-8-openjdk-amd64/jre/bin/servertool to provide /usr/bin/servertool (servertool) in auto mode\n",
            "update-alternatives: using /usr/lib/jvm/java-8-openjdk-amd64/jre/bin/tnameserv to provide /usr/bin/tnameserv (tnameserv) in auto mode\n",
            "Setting up libgtk2.0-0:amd64 (2.24.32-1ubuntu1) ...\n",
            "Setting up libgail18:amd64 (2.24.32-1ubuntu1) ...\n",
            "Setting up openjdk-8-jdk-headless:amd64 (8u352-ga-1~18.04) ...\n",
            "update-alternatives: using /usr/lib/jvm/java-8-openjdk-amd64/bin/idlj to provide /usr/bin/idlj (idlj) in auto mode\n",
            "update-alternatives: using /usr/lib/jvm/java-8-openjdk-amd64/bin/wsimport to provide /usr/bin/wsimport (wsimport) in auto mode\n",
            "update-alternatives: using /usr/lib/jvm/java-8-openjdk-amd64/bin/jsadebugd to provide /usr/bin/jsadebugd (jsadebugd) in auto mode\n",
            "update-alternatives: using /usr/lib/jvm/java-8-openjdk-amd64/bin/native2ascii to provide /usr/bin/native2ascii (native2ascii) in auto mode\n",
            "update-alternatives: using /usr/lib/jvm/java-8-openjdk-amd64/bin/javah to provide /usr/bin/javah (javah) in auto mode\n",
            "update-alternatives: using /usr/lib/jvm/java-8-openjdk-amd64/bin/clhsdb to provide /usr/bin/clhsdb (clhsdb) in auto mode\n",
            "update-alternatives: using /usr/lib/jvm/java-8-openjdk-amd64/bin/xjc to provide /usr/bin/xjc (xjc) in auto mode\n",
            "update-alternatives: using /usr/lib/jvm/java-8-openjdk-amd64/bin/hsdb to provide /usr/bin/hsdb (hsdb) in auto mode\n",
            "update-alternatives: using /usr/lib/jvm/java-8-openjdk-amd64/bin/schemagen to provide /usr/bin/schemagen (schemagen) in auto mode\n",
            "update-alternatives: using /usr/lib/jvm/java-8-openjdk-amd64/bin/extcheck to provide /usr/bin/extcheck (extcheck) in auto mode\n",
            "update-alternatives: using /usr/lib/jvm/java-8-openjdk-amd64/bin/jhat to provide /usr/bin/jhat (jhat) in auto mode\n",
            "update-alternatives: using /usr/lib/jvm/java-8-openjdk-amd64/bin/wsgen to provide /usr/bin/wsgen (wsgen) in auto mode\n",
            "Setting up x11-utils (7.7+3build1) ...\n",
            "Setting up libgail-common:amd64 (2.24.32-1ubuntu1) ...\n",
            "Setting up libatk-wrapper-java (0.33.3-20ubuntu0.1) ...\n",
            "Setting up libgtk2.0-bin (2.24.32-1ubuntu1) ...\n",
            "Setting up libatk-wrapper-java-jni:amd64 (0.33.3-20ubuntu0.1) ...\n",
            "Setting up openjdk-8-jre:amd64 (8u352-ga-1~18.04) ...\n",
            "update-alternatives: using /usr/lib/jvm/java-8-openjdk-amd64/jre/bin/policytool to provide /usr/bin/policytool (policytool) in auto mode\n",
            "Setting up openjdk-8-jdk:amd64 (8u352-ga-1~18.04) ...\n",
            "update-alternatives: using /usr/lib/jvm/java-8-openjdk-amd64/bin/appletviewer to provide /usr/bin/appletviewer (appletviewer) in auto mode\n",
            "update-alternatives: using /usr/lib/jvm/java-8-openjdk-amd64/bin/jconsole to provide /usr/bin/jconsole (jconsole) in auto mode\n",
            "Processing triggers for man-db (2.8.3-2ubuntu0.1) ...\n",
            "Processing triggers for hicolor-icon-theme (0.17-2) ...\n",
            "Processing triggers for fontconfig (2.12.6-0ubuntu2) ...\n",
            "Processing triggers for mime-support (3.60ubuntu1) ...\n",
            "Processing triggers for libc-bin (2.27-3ubuntu1.6) ...\n",
            "Looking in indexes: https://pypi.org/simple, https://us-python.pkg.dev/colab-wheels/public/simple/\n",
            "Collecting JPype1-py3\n",
            "  Downloading JPype1-py3-0.5.5.4.tar.gz (88 kB)\n",
            "\u001b[K     |████████████████████████████████| 88 kB 3.9 MB/s \n",
            "\u001b[?25hBuilding wheels for collected packages: JPype1-py3\n",
            "  Building wheel for JPype1-py3 (setup.py) ... \u001b[?25l\u001b[?25hdone\n",
            "  Created wheel for JPype1-py3: filename=JPype1_py3-0.5.5.4-cp38-cp38-linux_x86_64.whl size=2675647 sha256=9ef8f5566f8955a1037659f837c933ca9c5f90d7159246ac7d233972cd14e1ae\n",
            "  Stored in directory: /root/.cache/pip/wheels/e2/62/cb/64ba4955005a2d19364d9162893985494be2cbfe6130dcbba4\n",
            "Successfully built JPype1-py3\n",
            "Installing collected packages: JPype1-py3\n",
            "Successfully installed JPype1-py3-0.5.5.4\n",
            "Looking in indexes: https://pypi.org/simple, https://us-python.pkg.dev/colab-wheels/public/simple/\n",
            "Collecting konlpy\n",
            "  Downloading konlpy-0.6.0-py2.py3-none-any.whl (19.4 MB)\n",
            "\u001b[K     |████████████████████████████████| 19.4 MB 4.7 MB/s \n",
            "\u001b[?25hRequirement already satisfied: numpy>=1.6 in /usr/local/lib/python3.8/dist-packages (from konlpy) (1.21.6)\n",
            "Requirement already satisfied: lxml>=4.1.0 in /usr/local/lib/python3.8/dist-packages (from konlpy) (4.9.1)\n",
            "Collecting JPype1>=0.7.0\n",
            "  Downloading JPype1-1.4.1-cp38-cp38-manylinux_2_12_x86_64.manylinux2010_x86_64.whl (465 kB)\n",
            "\u001b[K     |████████████████████████████████| 465 kB 91.8 MB/s \n",
            "\u001b[?25hRequirement already satisfied: packaging in /usr/local/lib/python3.8/dist-packages (from JPype1>=0.7.0->konlpy) (21.3)\n",
            "Requirement already satisfied: pyparsing!=3.0.5,>=2.0.2 in /usr/local/lib/python3.8/dist-packages (from packaging->JPype1>=0.7.0->konlpy) (3.0.9)\n",
            "Installing collected packages: JPype1, konlpy\n",
            "Successfully installed JPype1-1.4.1 konlpy-0.6.0\n",
            "Looking in indexes: https://pypi.org/simple, https://us-python.pkg.dev/colab-wheels/public/simple/\n",
            "Collecting transformers\n",
            "  Downloading transformers-4.25.1-py3-none-any.whl (5.8 MB)\n",
            "\u001b[K     |████████████████████████████████| 5.8 MB 4.5 MB/s \n",
            "\u001b[?25hRequirement already satisfied: pyyaml>=5.1 in /usr/local/lib/python3.8/dist-packages (from transformers) (6.0)\n",
            "Requirement already satisfied: numpy>=1.17 in /usr/local/lib/python3.8/dist-packages (from transformers) (1.21.6)\n",
            "Collecting tokenizers!=0.11.3,<0.14,>=0.11.1\n",
            "  Downloading tokenizers-0.13.2-cp38-cp38-manylinux_2_17_x86_64.manylinux2014_x86_64.whl (7.6 MB)\n",
            "\u001b[K     |████████████████████████████████| 7.6 MB 87.2 MB/s \n",
            "\u001b[?25hRequirement already satisfied: filelock in /usr/local/lib/python3.8/dist-packages (from transformers) (3.8.0)\n",
            "Requirement already satisfied: requests in /usr/local/lib/python3.8/dist-packages (from transformers) (2.23.0)\n",
            "Requirement already satisfied: tqdm>=4.27 in /usr/local/lib/python3.8/dist-packages (from transformers) (4.64.1)\n",
            "Requirement already satisfied: regex!=2019.12.17 in /usr/local/lib/python3.8/dist-packages (from transformers) (2022.6.2)\n",
            "Requirement already satisfied: packaging>=20.0 in /usr/local/lib/python3.8/dist-packages (from transformers) (21.3)\n",
            "Collecting huggingface-hub<1.0,>=0.10.0\n",
            "  Downloading huggingface_hub-0.11.1-py3-none-any.whl (182 kB)\n",
            "\u001b[K     |████████████████████████████████| 182 kB 97.6 MB/s \n",
            "\u001b[?25hRequirement already satisfied: typing-extensions>=3.7.4.3 in /usr/local/lib/python3.8/dist-packages (from huggingface-hub<1.0,>=0.10.0->transformers) (4.4.0)\n",
            "Requirement already satisfied: pyparsing!=3.0.5,>=2.0.2 in /usr/local/lib/python3.8/dist-packages (from packaging>=20.0->transformers) (3.0.9)\n",
            "Requirement already satisfied: urllib3!=1.25.0,!=1.25.1,<1.26,>=1.21.1 in /usr/local/lib/python3.8/dist-packages (from requests->transformers) (1.24.3)\n",
            "Requirement already satisfied: idna<3,>=2.5 in /usr/local/lib/python3.8/dist-packages (from requests->transformers) (2.10)\n",
            "Requirement already satisfied: certifi>=2017.4.17 in /usr/local/lib/python3.8/dist-packages (from requests->transformers) (2022.9.24)\n",
            "Requirement already satisfied: chardet<4,>=3.0.2 in /usr/local/lib/python3.8/dist-packages (from requests->transformers) (3.0.4)\n",
            "Installing collected packages: tokenizers, huggingface-hub, transformers\n",
            "Successfully installed huggingface-hub-0.11.1 tokenizers-0.13.2 transformers-4.25.1\n",
            "Looking in indexes: https://pypi.org/simple, https://us-python.pkg.dev/colab-wheels/public/simple/\n",
            "Collecting sentencepiece\n",
            "  Downloading sentencepiece-0.1.97-cp38-cp38-manylinux_2_17_x86_64.manylinux2014_x86_64.whl (1.3 MB)\n",
            "\u001b[K     |████████████████████████████████| 1.3 MB 4.7 MB/s \n",
            "\u001b[?25hInstalling collected packages: sentencepiece\n",
            "Successfully installed sentencepiece-0.1.97\n"
          ]
        },
        {
          "output_type": "stream",
          "name": "stderr",
          "text": [
            "/usr/local/lib/python3.8/dist-packages/transformers/generation_utils.py:24: FutureWarning: Importing `GenerationMixin` from `src/transformers/generation_utils.py` is deprecated and will be removed in Transformers v5. Import as `from transformers import GenerationMixin` instead.\n",
            "  warnings.warn(\n",
            "/usr/local/lib/python3.8/dist-packages/transformers/generation_tf_utils.py:24: FutureWarning: Importing `TFGenerationMixin` from `src/transformers/generation_tf_utils.py` is deprecated and will be removed in Transformers v5. Import as `from transformers import TFGenerationMixin` instead.\n",
            "  warnings.warn(\n"
          ]
        }
      ],
      "source": [
        "!apt-get update\n",
        "!apt-get install g++ openjdk-8-jdk python-dev python3-dev\n",
        "!pip3 install JPype1-py3\n",
        "!pip3 install konlpy\n",
        "!JAVA_HOME=\"C:\\Program Files\\Java\\jdk-13.0.2\"\n",
        "!pip install transformers\n",
        "!pip install sentencepiece\n",
        "import tensorflow as tf\n",
        "import numpy as np\n",
        "import pandas as pd\n",
        "from transformers import *\n",
        "import json\n",
        "from tqdm import tqdm\n",
        "import os\n",
        "import re\n",
        "from keras_preprocessing.sequence import pad_sequences\n",
        "from sklearn.model_selection import train_test_split"
      ]
    },
    {
      "cell_type": "markdown",
      "metadata": {
        "id": "WnaInF0Et0Qc"
      },
      "source": [
        "## 데이터 로드"
      ]
    },
    {
      "cell_type": "code",
      "execution_count": null,
      "metadata": {
        "id": "MDnRs2RoG32F"
      },
      "outputs": [],
      "source": [
        "import csv\n",
        "wf = open(\"tokenized_data.csv\", \"w\")\n",
        "\n",
        "# 원티드\n",
        "for i in (16, 17, 18, 21, 22, 23, 27, 29):\n",
        "  rf = open(f\"wanted_tokenized_data_{i}.csv\", \"r\", encoding='utf-8')\n",
        "  rdr = csv.reader(rf)\n",
        "  for line in rdr:\n",
        "    if len(line) == 0:\n",
        "        wf.write(\"9999\"+\",\"+\"9999\"+\"\\n\")\n",
        "    elif len(line) == 1:\n",
        "        wf.write(line[0]+\",\"+\"9999\"+\"\\n\")\n",
        "    else :\n",
        "        wf.write(line[0]+\",\"+line[1]+\"\\n\")\n",
        "  rf.close()\n",
        "# 잡코리아\n",
        "for i in (16, 17, 18, 19, 20, 21, 22, 23, 24):\n",
        "  rf = open(f\"jobkorea_tokenized_data_{i}.csv\", \"r\", encoding='utf-8')\n",
        "  rdr = csv.reader(rf)\n",
        "  for line in rdr:\n",
        "    if len(line) == 0:\n",
        "        wf.write(\"9999\"+\",\"+\"9999\"+\"\\n\")\n",
        "    elif len(line) == 1:\n",
        "        wf.write(line[0]+\",\"+\"9999\"+\"\\n\")\n",
        "    else :\n",
        "        wf.write(line[0]+\",\"+line[1]+\"\\n\")\n",
        "  rf.close()\n",
        "# 링커리어\n",
        "for i in (16, 17, 18, 19, 20, 22, 23, 26):\n",
        "  rf = open(f\"linkareer_tokenized_data_{i}.csv\", \"r\", encoding='utf-8')\n",
        "  rdr = csv.reader(rf)\n",
        "  for line in rdr:\n",
        "    if len(line) == 0:\n",
        "        wf.write(\"9999\"+\",\"+\"9999\"+\"\\n\")\n",
        "    elif len(line) == 1:\n",
        "        wf.write(line[0]+\",\"+\"9999\"+\"\\n\")\n",
        "    else :\n",
        "        wf.write(line[0]+\",\"+line[1]+\"\\n\")\n",
        "  rf.close()\n",
        "\n",
        "# 워크넷\n",
        "for i in (16, 17, 18, 19, 20, 21, 22, 23):\n",
        "  rf = open(f\"tokenized_data_{i}.csv\", \"r\", encoding='utf-8')\n",
        "  rdr = csv.reader(rf)\n",
        "  for line in rdr:\n",
        "    if len(line) == 0:\n",
        "        wf.write(\"9999\"+\",\"+\"9999\"+\"\\n\")\n",
        "    elif len(line) == 1:\n",
        "        wf.write(line[0]+\",\"+\"9999\"+\"\\n\")\n",
        "    else :\n",
        "        wf.write(line[0]+\",\"+line[1]+\"\\n\")\n",
        "  rf.close()\n"
      ]
    },
    {
      "cell_type": "code",
      "execution_count": null,
      "metadata": {
        "id": "gh-xmlPj29hT"
      },
      "outputs": [],
      "source": [
        "# 원티드\n",
        "for i in (0, 1, 2, 3, 4, 5, 6, 7, 24, 8, 9, 11, 12, 14, 15, 25, 28):\n",
        "  rf = open(f\"wanted_tokenized_data_{i}.csv\", \"r\", encoding='cp949')\n",
        "  rdr = csv.reader(rf)\n",
        "  for line in rdr:\n",
        "    wf.write(line[0]+\",\"+line[1]+\"\\n\")\n",
        "  rf.close()\n",
        "# 잡코리아\n",
        "for i in (0, 1, 2, 3, 4, 5, 6, 7, 8, 9, 10, 11, 12, 13, 14, 15):\n",
        "  rf = open(f\"jobkorea_tokenized_data_{i}.csv\", \"r\", encoding='cp949')\n",
        "  rdr = csv.reader(rf)\n",
        "  for line in rdr:\n",
        "    wf.write(line[0]+\",\"+line[1]+\"\\n\")\n",
        "  rf.close()\n",
        "# 링커리어\n",
        "for i in (0, 1, 2, 3, 4, 5, 6, 7, 8, 9, 11, 12, 13, 14, 15, 24, 25):\n",
        "  rf = open(f\"linkareer_tokenized_data_{i}.csv\", \"r\", encoding='cp949')\n",
        "  rdr = csv.reader(rf)\n",
        "  for line in rdr:\n",
        "    wf.write(line[0]+\",\"+line[1]+\"\\n\")\n",
        "  rf.close()\n",
        "\n",
        "# 워크넷\n",
        "for i in (0, 1, 2, 3, 4, 5, 6, 7, 24, 8, 9, 10, 11, 12, 13, 14, 15):\n",
        "  rf = open(f\"tokenized_data_{i}.csv\", \"r\", encoding='cp949')\n",
        "  rdr = csv.reader(rf)\n",
        "  for line in rdr:\n",
        "    wf.write(line[0]+\",\"+line[1]+\"\\n\")\n",
        "  rf.close()\n",
        "\n",
        "wf.close()"
      ]
    },
    {
      "cell_type": "markdown",
      "metadata": {
        "id": "J3qbd1Xst8rj"
      },
      "source": [
        "## 데이터 전처리"
      ]
    },
    {
      "cell_type": "code",
      "execution_count": null,
      "metadata": {
        "id": "lA-hzwsc4rI2"
      },
      "outputs": [],
      "source": [
        "train = pd.read_csv(\"tokenized_data.csv\", names=['src', 'tar'], on_bad_lines='skip')"
      ]
    },
    {
      "cell_type": "code",
      "execution_count": null,
      "metadata": {
        "colab": {
          "base_uri": "https://localhost:8080/",
          "height": 424
        },
        "id": "QXRz5r7d5VhB",
        "outputId": "b940072f-4668-4dd0-c84f-989e1b6f3369"
      },
      "outputs": [
        {
          "output_type": "execute_result",
          "data": {
            "text/plain": [
              "         src tar\n",
              "0       플랜티넷   -\n",
              "1          은   -\n",
              "2      2000년   -\n",
              "3         부터   -\n",
              "4          약   -\n",
              "...      ...  ..\n",
              "72688     추적   -\n",
              "72689    NaN   -\n",
              "72690     배급   -\n",
              "72691      등   -\n",
              "72692      )   -\n",
              "\n",
              "[72693 rows x 2 columns]"
            ],
            "text/html": [
              "\n",
              "  <div id=\"df-00d787e2-61ae-4d71-ad0d-c2652ec7e80d\">\n",
              "    <div class=\"colab-df-container\">\n",
              "      <div>\n",
              "<style scoped>\n",
              "    .dataframe tbody tr th:only-of-type {\n",
              "        vertical-align: middle;\n",
              "    }\n",
              "\n",
              "    .dataframe tbody tr th {\n",
              "        vertical-align: top;\n",
              "    }\n",
              "\n",
              "    .dataframe thead th {\n",
              "        text-align: right;\n",
              "    }\n",
              "</style>\n",
              "<table border=\"1\" class=\"dataframe\">\n",
              "  <thead>\n",
              "    <tr style=\"text-align: right;\">\n",
              "      <th></th>\n",
              "      <th>src</th>\n",
              "      <th>tar</th>\n",
              "    </tr>\n",
              "  </thead>\n",
              "  <tbody>\n",
              "    <tr>\n",
              "      <th>0</th>\n",
              "      <td>플랜티넷</td>\n",
              "      <td>-</td>\n",
              "    </tr>\n",
              "    <tr>\n",
              "      <th>1</th>\n",
              "      <td>은</td>\n",
              "      <td>-</td>\n",
              "    </tr>\n",
              "    <tr>\n",
              "      <th>2</th>\n",
              "      <td>2000년</td>\n",
              "      <td>-</td>\n",
              "    </tr>\n",
              "    <tr>\n",
              "      <th>3</th>\n",
              "      <td>부터</td>\n",
              "      <td>-</td>\n",
              "    </tr>\n",
              "    <tr>\n",
              "      <th>4</th>\n",
              "      <td>약</td>\n",
              "      <td>-</td>\n",
              "    </tr>\n",
              "    <tr>\n",
              "      <th>...</th>\n",
              "      <td>...</td>\n",
              "      <td>...</td>\n",
              "    </tr>\n",
              "    <tr>\n",
              "      <th>72688</th>\n",
              "      <td>추적</td>\n",
              "      <td>-</td>\n",
              "    </tr>\n",
              "    <tr>\n",
              "      <th>72689</th>\n",
              "      <td>NaN</td>\n",
              "      <td>-</td>\n",
              "    </tr>\n",
              "    <tr>\n",
              "      <th>72690</th>\n",
              "      <td>배급</td>\n",
              "      <td>-</td>\n",
              "    </tr>\n",
              "    <tr>\n",
              "      <th>72691</th>\n",
              "      <td>등</td>\n",
              "      <td>-</td>\n",
              "    </tr>\n",
              "    <tr>\n",
              "      <th>72692</th>\n",
              "      <td>)</td>\n",
              "      <td>-</td>\n",
              "    </tr>\n",
              "  </tbody>\n",
              "</table>\n",
              "<p>72693 rows × 2 columns</p>\n",
              "</div>\n",
              "      <button class=\"colab-df-convert\" onclick=\"convertToInteractive('df-00d787e2-61ae-4d71-ad0d-c2652ec7e80d')\"\n",
              "              title=\"Convert this dataframe to an interactive table.\"\n",
              "              style=\"display:none;\">\n",
              "        \n",
              "  <svg xmlns=\"http://www.w3.org/2000/svg\" height=\"24px\"viewBox=\"0 0 24 24\"\n",
              "       width=\"24px\">\n",
              "    <path d=\"M0 0h24v24H0V0z\" fill=\"none\"/>\n",
              "    <path d=\"M18.56 5.44l.94 2.06.94-2.06 2.06-.94-2.06-.94-.94-2.06-.94 2.06-2.06.94zm-11 1L8.5 8.5l.94-2.06 2.06-.94-2.06-.94L8.5 2.5l-.94 2.06-2.06.94zm10 10l.94 2.06.94-2.06 2.06-.94-2.06-.94-.94-2.06-.94 2.06-2.06.94z\"/><path d=\"M17.41 7.96l-1.37-1.37c-.4-.4-.92-.59-1.43-.59-.52 0-1.04.2-1.43.59L10.3 9.45l-7.72 7.72c-.78.78-.78 2.05 0 2.83L4 21.41c.39.39.9.59 1.41.59.51 0 1.02-.2 1.41-.59l7.78-7.78 2.81-2.81c.8-.78.8-2.07 0-2.86zM5.41 20L4 18.59l7.72-7.72 1.47 1.35L5.41 20z\"/>\n",
              "  </svg>\n",
              "      </button>\n",
              "      \n",
              "  <style>\n",
              "    .colab-df-container {\n",
              "      display:flex;\n",
              "      flex-wrap:wrap;\n",
              "      gap: 12px;\n",
              "    }\n",
              "\n",
              "    .colab-df-convert {\n",
              "      background-color: #E8F0FE;\n",
              "      border: none;\n",
              "      border-radius: 50%;\n",
              "      cursor: pointer;\n",
              "      display: none;\n",
              "      fill: #1967D2;\n",
              "      height: 32px;\n",
              "      padding: 0 0 0 0;\n",
              "      width: 32px;\n",
              "    }\n",
              "\n",
              "    .colab-df-convert:hover {\n",
              "      background-color: #E2EBFA;\n",
              "      box-shadow: 0px 1px 2px rgba(60, 64, 67, 0.3), 0px 1px 3px 1px rgba(60, 64, 67, 0.15);\n",
              "      fill: #174EA6;\n",
              "    }\n",
              "\n",
              "    [theme=dark] .colab-df-convert {\n",
              "      background-color: #3B4455;\n",
              "      fill: #D2E3FC;\n",
              "    }\n",
              "\n",
              "    [theme=dark] .colab-df-convert:hover {\n",
              "      background-color: #434B5C;\n",
              "      box-shadow: 0px 1px 3px 1px rgba(0, 0, 0, 0.15);\n",
              "      filter: drop-shadow(0px 1px 2px rgba(0, 0, 0, 0.3));\n",
              "      fill: #FFFFFF;\n",
              "    }\n",
              "  </style>\n",
              "\n",
              "      <script>\n",
              "        const buttonEl =\n",
              "          document.querySelector('#df-00d787e2-61ae-4d71-ad0d-c2652ec7e80d button.colab-df-convert');\n",
              "        buttonEl.style.display =\n",
              "          google.colab.kernel.accessAllowed ? 'block' : 'none';\n",
              "\n",
              "        async function convertToInteractive(key) {\n",
              "          const element = document.querySelector('#df-00d787e2-61ae-4d71-ad0d-c2652ec7e80d');\n",
              "          const dataTable =\n",
              "            await google.colab.kernel.invokeFunction('convertToInteractive',\n",
              "                                                     [key], {});\n",
              "          if (!dataTable) return;\n",
              "\n",
              "          const docLinkHtml = 'Like what you see? Visit the ' +\n",
              "            '<a target=\"_blank\" href=https://colab.research.google.com/notebooks/data_table.ipynb>data table notebook</a>'\n",
              "            + ' to learn more about interactive tables.';\n",
              "          element.innerHTML = '';\n",
              "          dataTable['output_type'] = 'display_data';\n",
              "          await google.colab.output.renderOutput(dataTable, element);\n",
              "          const docLink = document.createElement('div');\n",
              "          docLink.innerHTML = docLinkHtml;\n",
              "          element.appendChild(docLink);\n",
              "        }\n",
              "      </script>\n",
              "    </div>\n",
              "  </div>\n",
              "  "
            ]
          },
          "metadata": {},
          "execution_count": 3
        }
      ],
      "source": [
        "train"
      ]
    },
    {
      "cell_type": "code",
      "execution_count": null,
      "metadata": {
        "id": "aEaFLlFW5bjK"
      },
      "outputs": [],
      "source": [
        "# 리스트로 변경\n",
        "data = [list(x) for x in train[['src', 'tar']].to_numpy()]"
      ]
    },
    {
      "cell_type": "code",
      "execution_count": null,
      "metadata": {
        "colab": {
          "base_uri": "https://localhost:8080/"
        },
        "id": "i38bJ8Cj5b1r",
        "outputId": "3bcbb4b6-08e9-4c0a-d536-f000e171464b"
      },
      "outputs": [
        {
          "output_type": "execute_result",
          "data": {
            "text/plain": [
              "[['플랜티넷', '-'],\n",
              " ['은', '-'],\n",
              " ['2000년', '-'],\n",
              " ['부터', '-'],\n",
              " ['약', '-'],\n",
              " ['20년', '-'],\n",
              " ['동안', '-'],\n",
              " ['축척한', '-'],\n",
              " ['유하', '-'],\n",
              " ['어', '-']]"
            ]
          },
          "metadata": {},
          "execution_count": 5
        }
      ],
      "source": [
        "data[:10]"
      ]
    },
    {
      "cell_type": "code",
      "execution_count": null,
      "metadata": {
        "id": "3MwGaWlF5cXE"
      },
      "outputs": [],
      "source": [
        "# 라벨 추출 & 딕셔너리 형식으로 저장\n",
        "label = train['tar'].unique().tolist()\n",
        "label_dict = {word:i for i, word in enumerate(label)}\n",
        "label_dict.update({\"[PAD]\":len(label_dict)})\n",
        "index_to_ner = {i:j for j, i in label_dict.items()}"
      ]
    },
    {
      "cell_type": "code",
      "execution_count": null,
      "metadata": {
        "id": "QSCGRNVAH2Uf"
      },
      "outputs": [],
      "source": [
        "def isRight(d):\n",
        "  return label_dict[d[1]] not in [18, 24, 25, 26, 27, 30, 31]\n",
        "data = list(filter(isRight, data))"
      ]
    },
    {
      "cell_type": "code",
      "execution_count": null,
      "metadata": {
        "colab": {
          "base_uri": "https://localhost:8080/"
        },
        "id": "U2vfDMCqI-eq",
        "outputId": "60de883b-c26a-4de1-bfa3-5c93811f3500"
      },
      "outputs": [
        {
          "output_type": "execute_result",
          "data": {
            "text/plain": [
              "[['플랜티넷', '-'],\n",
              " ['은', '-'],\n",
              " ['2000년', '-'],\n",
              " ['부터', '-'],\n",
              " ['약', '-'],\n",
              " ['20년', '-'],\n",
              " ['동안', '-'],\n",
              " ['축척한', '-'],\n",
              " ['유하', '-'],\n",
              " ['어', '-']]"
            ]
          },
          "metadata": {},
          "execution_count": 7
        }
      ],
      "source": [
        "data[:10]"
      ]
    },
    {
      "cell_type": "code",
      "execution_count": null,
      "metadata": {
        "colab": {
          "base_uri": "https://localhost:8080/"
        },
        "id": "Yl8_Tu8mIilY",
        "outputId": "24200550-6092-4bb9-d532-e8ace9848182"
      },
      "outputs": [
        {
          "output_type": "stream",
          "name": "stdout",
          "text": [
            "[nan, 'B_DB', 'I_PL', 'I_CS', 'B_DT', 'B_CS', 'I_HW', 'B_AW', 'I_SC', 'B_SS', 'B_PL', 'I_NT', '9999', 'I_AW', 'B_SC', 'I_OS', 'I_DT', 'I_SW', 'B_HW', 'B_OS', 'B_SW', '-', 'I_SS', 'I_DB', 'B_NT']\n",
            "{nan: 0, 'B_DB': 1, 'I_PL': 2, 'I_CS': 3, 'B_DT': 4, 'B_CS': 5, 'I_HW': 6, 'B_AW': 7, 'I_SC': 8, 'B_SS': 9, 'B_PL': 10, 'I_NT': 11, '9999': 12, 'I_AW': 13, 'B_SC': 14, 'I_OS': 15, 'I_DT': 16, 'I_SW': 17, 'B_HW': 18, 'B_OS': 19, 'B_SW': 20, '-': 21, 'I_SS': 22, 'I_DB': 23, 'B_NT': 24}\n",
            "{nan: 0, 'B_DB': 1, 'I_PL': 2, 'I_CS': 3, 'B_DT': 4, 'B_CS': 5, 'I_HW': 6, 'B_AW': 7, 'I_SC': 8, 'B_SS': 9, 'B_PL': 10, 'I_NT': 11, '9999': 12, 'I_AW': 13, 'B_SC': 14, 'I_OS': 15, 'I_DT': 16, 'I_SW': 17, 'B_HW': 18, 'B_OS': 19, 'B_SW': 20, '-': 21, 'I_SS': 22, 'I_DB': 23, 'B_NT': 24, '[PAD]': 25}\n"
          ]
        }
      ],
      "source": [
        "label = []\n",
        "for d in data:\n",
        "  label.append(d[1])\n",
        "label = list(set(label))\n",
        "print(label)\n",
        "label_dict = {word:i for i, word in enumerate(label)}\n",
        "print(label_dict)\n",
        "label_dict.update({\"[PAD]\":len(label_dict)})\n",
        "print(label_dict)\n",
        "index_to_ner = {i:j for j, i in label_dict.items()}"
      ]
    },
    {
      "cell_type": "code",
      "execution_count": null,
      "metadata": {
        "colab": {
          "base_uri": "https://localhost:8080/"
        },
        "id": "ulEihsu65diT",
        "outputId": "347b20f7-4c06-4aff-94c4-6df88e97dc0a"
      },
      "outputs": [
        {
          "output_type": "execute_result",
          "data": {
            "text/plain": [
              "{nan: 0,\n",
              " 'B_DB': 1,\n",
              " 'I_PL': 2,\n",
              " 'I_CS': 3,\n",
              " 'B_DT': 4,\n",
              " 'B_CS': 5,\n",
              " 'I_HW': 6,\n",
              " 'B_AW': 7,\n",
              " 'I_SC': 8,\n",
              " 'B_SS': 9,\n",
              " 'B_PL': 10,\n",
              " 'I_NT': 11,\n",
              " '9999': 12,\n",
              " 'I_AW': 13,\n",
              " 'B_SC': 14,\n",
              " 'I_OS': 15,\n",
              " 'I_DT': 16,\n",
              " 'I_SW': 17,\n",
              " 'B_HW': 18,\n",
              " 'B_OS': 19,\n",
              " 'B_SW': 20,\n",
              " '-': 21,\n",
              " 'I_SS': 22,\n",
              " 'I_DB': 23,\n",
              " 'B_NT': 24,\n",
              " '[PAD]': 25}"
            ]
          },
          "metadata": {},
          "execution_count": 11
        }
      ],
      "source": [
        "label_dict"
      ]
    },
    {
      "cell_type": "code",
      "execution_count": null,
      "metadata": {
        "colab": {
          "base_uri": "https://localhost:8080/"
        },
        "id": "yj53taxM5egK",
        "outputId": "0e1dcd9e-2e3b-4ed0-bc6c-0dd1fa500ed7"
      },
      "outputs": [
        {
          "output_type": "execute_result",
          "data": {
            "text/plain": [
              "{0: nan,\n",
              " 1: 'B_DB',\n",
              " 2: 'I_PL',\n",
              " 3: 'I_CS',\n",
              " 4: 'B_DT',\n",
              " 5: 'B_CS',\n",
              " 6: 'I_HW',\n",
              " 7: 'B_AW',\n",
              " 8: 'I_SC',\n",
              " 9: 'B_SS',\n",
              " 10: 'B_PL',\n",
              " 11: 'I_NT',\n",
              " 12: '9999',\n",
              " 13: 'I_AW',\n",
              " 14: 'B_SC',\n",
              " 15: 'I_OS',\n",
              " 16: 'I_DT',\n",
              " 17: 'I_SW',\n",
              " 18: 'B_HW',\n",
              " 19: 'B_OS',\n",
              " 20: 'B_SW',\n",
              " 21: '-',\n",
              " 22: 'I_SS',\n",
              " 23: 'I_DB',\n",
              " 24: 'B_NT',\n",
              " 25: '[PAD]'}"
            ]
          },
          "metadata": {},
          "execution_count": 12
        }
      ],
      "source": [
        "index_to_ner"
      ]
    },
    {
      "cell_type": "code",
      "execution_count": null,
      "metadata": {
        "id": "knqCPPFl5fEJ"
      },
      "outputs": [],
      "source": [
        "# tups에는 [[단어, 개체], [], ...] 저장\n",
        "tups = []\n",
        "for i, j in data:\n",
        "  tups.append([i, label_dict[j]])"
      ]
    },
    {
      "cell_type": "code",
      "execution_count": null,
      "metadata": {
        "colab": {
          "base_uri": "https://localhost:8080/"
        },
        "id": "6FhpJfm15gVT",
        "outputId": "c6a14ed0-6635-44f1-9b43-95c08a51338d"
      },
      "outputs": [
        {
          "output_type": "execute_result",
          "data": {
            "text/plain": [
              "[['플랜티넷', 21],\n",
              " ['은', 21],\n",
              " ['2000년', 21],\n",
              " ['부터', 21],\n",
              " ['약', 21],\n",
              " ['20년', 21],\n",
              " ['동안', 21],\n",
              " ['축척한', 21],\n",
              " ['유하', 21],\n",
              " ['어', 21],\n",
              " ['디지털', 21],\n",
              " ['콘텐츠', 21],\n",
              " ['데이터베이스(DB)', 21],\n",
              " ['를', 21],\n",
              " ['바탕', 21],\n",
              " ['으로', 21],\n",
              " ['변화', 21],\n",
              " ['하', 21],\n",
              " ['는', 21],\n",
              " ['모바일(AW)', 7],\n",
              " ['PC', 13],\n",
              " ['환경', 13],\n",
              " ['에', 13],\n",
              " ['적합한', 13],\n",
              " ['새롭', 13],\n",
              " ['고', 13],\n",
              " ['혁신적', 13],\n",
              " ['이', 13],\n",
              " ['ㄴ', 13],\n",
              " ['필터링', 13],\n",
              " ['솔루션', 13],\n",
              " ['을', 13],\n",
              " ['연구', 13],\n",
              " ['하고', 21],\n",
              " ['제공', 21],\n",
              " ['하', 21],\n",
              " ['ㅂ니다', 21],\n",
              " ['.', 21],\n",
              " ['9999', 12],\n",
              " ['주요업무', 21],\n",
              " ['9999', 12],\n",
              " ['•', 21],\n",
              " ['악성코드', 14],\n",
              " [nan, 8],\n",
              " ['공격도구', 8],\n",
              " [nan, 8],\n",
              " ['APT', 8],\n",
              " ['등', 8],\n",
              " ['공격', 8],\n",
              " ['기법', 8]]"
            ]
          },
          "metadata": {},
          "execution_count": 10
        }
      ],
      "source": [
        "tups[:50]"
      ]
    },
    {
      "cell_type": "code",
      "execution_count": null,
      "metadata": {
        "id": "8BfVZcqM5hpD"
      },
      "outputs": [],
      "source": [
        "#from torch import nan\n",
        "# sentences에는 단어, targets에는 개체 저장 및 문장 구분\n",
        "sentences = []\n",
        "targets = []\n",
        "sentence = ['[CLS]']\n",
        "target = [label_dict['-']]\n",
        "for tup in tups:\n",
        "  if (type(tup[0]) == float and tup[1] == 0) or tup[0] == '9999': # 문장 끝인 경우\n",
        "    sentence.append(\"[SEP]\")\n",
        "    target.append(label_dict['-'])  \n",
        "    sentences.append(sentence)\n",
        "    targets.append(target)\n",
        "    sentence = ['[CLS]']\n",
        "    target = [label_dict['-']]\n",
        "    continue\n",
        "  if type(tup[0]) != float: # 원래 데이터는 있지만 특수기호 등으로 인해 nan이 들어간 경우는 제외\n",
        "    sentence.append(tup[0])\n",
        "    target.append(tup[1])"
      ]
    },
    {
      "cell_type": "code",
      "execution_count": null,
      "metadata": {
        "colab": {
          "base_uri": "https://localhost:8080/"
        },
        "id": "2YDr6PBpJ9Yc",
        "outputId": "c58ba5ec-4a45-41d9-ff6f-f355514bd43d"
      },
      "outputs": [
        {
          "output_type": "execute_result",
          "data": {
            "text/plain": [
              "[['[CLS]',\n",
              "  '플랜티넷',\n",
              "  '은',\n",
              "  '2000년',\n",
              "  '부터',\n",
              "  '약',\n",
              "  '20년',\n",
              "  '동안',\n",
              "  '축척한',\n",
              "  '유하',\n",
              "  '어',\n",
              "  '디지털',\n",
              "  '콘텐츠',\n",
              "  '데이터베이스(DB)',\n",
              "  '를',\n",
              "  '바탕',\n",
              "  '으로',\n",
              "  '변화',\n",
              "  '하',\n",
              "  '는',\n",
              "  '모바일(AW)',\n",
              "  'PC',\n",
              "  '환경',\n",
              "  '에',\n",
              "  '적합한',\n",
              "  '새롭',\n",
              "  '고',\n",
              "  '혁신적',\n",
              "  '이',\n",
              "  'ㄴ',\n",
              "  '필터링',\n",
              "  '솔루션',\n",
              "  '을',\n",
              "  '연구',\n",
              "  '하고',\n",
              "  '제공',\n",
              "  '하',\n",
              "  'ㅂ니다',\n",
              "  '.',\n",
              "  '[SEP]']]"
            ]
          },
          "metadata": {},
          "execution_count": 14
        }
      ],
      "source": [
        "sentences[:1]"
      ]
    },
    {
      "cell_type": "markdown",
      "metadata": {
        "id": "M687nES_uBVU"
      },
      "source": [
        "## 버트 인풋 생성"
      ]
    },
    {
      "cell_type": "code",
      "execution_count": null,
      "metadata": {
        "colab": {
          "base_uri": "https://localhost:8080/",
          "height": 716,
          "referenced_widgets": [
            "ea87dbe6c4a540579d0a153eb446b5a1",
            "b3a229325d8d41fc815bf6a8509dd8ed",
            "e2ec7892be47426281c9a1f4196462e2",
            "fd1b690b210d44b890dca1494ff2b7c3",
            "337891c57739453abc69eca576794c3d",
            "1aace978ae04450b8dbdd77a5b5d98ab",
            "44bb3f40c2d742a5bae051620a34f847",
            "ce6e521cf58b40889b321f06241a8615",
            "0efe382b5ad64fbaac7b6ddd229af828",
            "dfbf9e813a25432d9a298641247d889f",
            "faafe344a3d44a8094c54de724b94688",
            "15469faa2249462ca5f4e55eb729aa9c",
            "c086dad0bdfd432d87485e119f55afb2",
            "f6c57b6ce5c943fc88fa341a696cede6",
            "4945e01d6025485fbc5be34b8443f959",
            "3152f96142244f5392f18388a93dd6c5",
            "110aab27aa534151ad66be46a1f36f37",
            "0f34de3f321c463f9d082f412b319cbd",
            "6a99143422c54472a18b8b94b977e078",
            "e4b36d632a32479094b76be929cf7dc2",
            "6047a97e45464793b2641ddb0a80ac07",
            "c482eb31617d4157a0232c6c1b2df257",
            "9e94e9e05a554faa8771e2921acc72a2",
            "9c05ab6efaa94264939126d21c0d12f9",
            "ac4fecb2c71746888c2e9f37fdbc4de7",
            "a2b7628a31aa4a63aa2a3b7040cd22ee",
            "36954ee385cc4216ad98bf902c9fe351",
            "9328ad0198494f75b4562e40098c5d28",
            "8a2993a32e904163af923e1281d145a5",
            "716dc38ef0d0460c8025046b8c2a6b72",
            "629e7df535bb45e195cf5c1e17e9edec",
            "aed07a1a127842b0b2b328b5502a3bcb",
            "1d95f73ab3e04e26929415a89e154412",
            "46759139cff040e9b64896c61819d887",
            "4b3ee58790c94cd48c7b23dc0f4f92e4",
            "dd84b9b4df134f2082feb81b120847b7",
            "65376661a1b440cb901545ca820c5952",
            "d957f763400a46038057cbcda4a0ad58",
            "66aed840b8af4d7e894ea01789b6925a",
            "8dda67aaf31e439e84674b507d532dc2",
            "ec85443c3f584d7791568531c65fd85d",
            "278a55adf7414065af25a3249d0095a9",
            "fdca3d05aa3f45e295059a0b8995ee98",
            "1d6a6b309b0b4a68b23ba56a910a0d3a"
          ]
        },
        "id": "4UdIeP4q5ikX",
        "outputId": "c3114f5c-b39a-4669-d62d-b044d946766a"
      },
      "outputs": [
        {
          "output_type": "display_data",
          "data": {
            "text/plain": [
              "Downloading:   0%|          | 0.00/248k [00:00<?, ?B/s]"
            ],
            "application/vnd.jupyter.widget-view+json": {
              "version_major": 2,
              "version_minor": 0,
              "model_id": "ea87dbe6c4a540579d0a153eb446b5a1"
            }
          },
          "metadata": {}
        },
        {
          "output_type": "display_data",
          "data": {
            "text/plain": [
              "Downloading:   0%|          | 0.00/125 [00:00<?, ?B/s]"
            ],
            "application/vnd.jupyter.widget-view+json": {
              "version_major": 2,
              "version_minor": 0,
              "model_id": "15469faa2249462ca5f4e55eb729aa9c"
            }
          },
          "metadata": {}
        },
        {
          "output_type": "display_data",
          "data": {
            "text/plain": [
              "Downloading:   0%|          | 0.00/289 [00:00<?, ?B/s]"
            ],
            "application/vnd.jupyter.widget-view+json": {
              "version_major": 2,
              "version_minor": 0,
              "model_id": "9e94e9e05a554faa8771e2921acc72a2"
            }
          },
          "metadata": {}
        },
        {
          "output_type": "stream",
          "name": "stderr",
          "text": [
            "loading file vocab.txt from cache at /root/.cache/huggingface/hub/models--klue--bert-base/snapshots/812449f1a6bc736e693db7aa0e513e5e90795a62/vocab.txt\n",
            "loading file added_tokens.json from cache at None\n",
            "loading file special_tokens_map.json from cache at /root/.cache/huggingface/hub/models--klue--bert-base/snapshots/812449f1a6bc736e693db7aa0e513e5e90795a62/special_tokens_map.json\n",
            "loading file tokenizer_config.json from cache at /root/.cache/huggingface/hub/models--klue--bert-base/snapshots/812449f1a6bc736e693db7aa0e513e5e90795a62/tokenizer_config.json\n"
          ]
        },
        {
          "output_type": "display_data",
          "data": {
            "text/plain": [
              "Downloading:   0%|          | 0.00/425 [00:00<?, ?B/s]"
            ],
            "application/vnd.jupyter.widget-view+json": {
              "version_major": 2,
              "version_minor": 0,
              "model_id": "46759139cff040e9b64896c61819d887"
            }
          },
          "metadata": {}
        },
        {
          "output_type": "stream",
          "name": "stderr",
          "text": [
            "loading configuration file config.json from cache at /root/.cache/huggingface/hub/models--klue--bert-base/snapshots/812449f1a6bc736e693db7aa0e513e5e90795a62/config.json\n",
            "Model config BertConfig {\n",
            "  \"_name_or_path\": \"klue/bert-base\",\n",
            "  \"architectures\": [\n",
            "    \"BertForMaskedLM\"\n",
            "  ],\n",
            "  \"attention_probs_dropout_prob\": 0.1,\n",
            "  \"classifier_dropout\": null,\n",
            "  \"hidden_act\": \"gelu\",\n",
            "  \"hidden_dropout_prob\": 0.1,\n",
            "  \"hidden_size\": 768,\n",
            "  \"initializer_range\": 0.02,\n",
            "  \"intermediate_size\": 3072,\n",
            "  \"layer_norm_eps\": 1e-12,\n",
            "  \"max_position_embeddings\": 512,\n",
            "  \"model_type\": \"bert\",\n",
            "  \"num_attention_heads\": 12,\n",
            "  \"num_hidden_layers\": 12,\n",
            "  \"pad_token_id\": 0,\n",
            "  \"position_embedding_type\": \"absolute\",\n",
            "  \"transformers_version\": \"4.25.1\",\n",
            "  \"type_vocab_size\": 2,\n",
            "  \"use_cache\": true,\n",
            "  \"vocab_size\": 32000\n",
            "}\n",
            "\n"
          ]
        }
      ],
      "source": [
        "from transformers import TFBertForMaskedLM\n",
        "from transformers import BertTokenizer\n",
        "from transformers import AutoTokenizer\n",
        "\n",
        "# model = TFBertForMaskedLM.from_pretrained('bert-base-multilingual-cased')\n",
        "# tokenizer = AutoTokenizer.from_pretrained(\"bert-base-multilingual-cased\")\n",
        "# model = TFBertForMaskedLM.from_pretrained('bert-base-multilingual-cased')\n",
        "tokenizer = BertTokenizer.from_pretrained('klue/bert-base')"
      ]
    },
    {
      "cell_type": "code",
      "execution_count": null,
      "metadata": {
        "id": "S5qXe9_h5jUd"
      },
      "outputs": [],
      "source": [
        "def tokenize_and_preserve_labels(sentence, text_labels):\n",
        "  tokenized_sentence = []\n",
        "  labels = []\n",
        "\n",
        "  for word, label in zip(sentence, text_labels):\n",
        "    tokenized_word = tokenizer.tokenize(word)\n",
        "    n_subwords = len(tokenized_word)\n",
        "\n",
        "    tokenized_sentence.extend(tokenized_word)\n",
        "    labels.extend([label] * n_subwords)\n",
        "\n",
        "  return tokenized_sentence, labels"
      ]
    },
    {
      "cell_type": "code",
      "execution_count": null,
      "metadata": {
        "id": "4DNX5Tyq5oXw"
      },
      "outputs": [],
      "source": [
        "tokenized_texts_and_labels = [tokenize_and_preserve_labels(sent, labs)\n",
        "                              for sent, labs in zip(sentences, targets)]"
      ]
    },
    {
      "cell_type": "code",
      "execution_count": null,
      "metadata": {
        "colab": {
          "base_uri": "https://localhost:8080/"
        },
        "id": "wt1G0G_w5qJI",
        "outputId": "3874f9f6-80b4-4720-bed2-b3fbb0d12be2"
      },
      "outputs": [
        {
          "output_type": "stream",
          "name": "stdout",
          "text": [
            "[(['[CLS]', '플랜', '##티', '##넷', '은', '2000', '##년', '부터', '약', '20', '##년', '동안', '축', '##척', '##한', '유', '##하', '어', '디지털', '콘텐츠', '데이터베이스', '(', 'DB', ')', '를', '바탕', '으로', '변화', '하', '는', '모바일', '(', 'A', '##W', ')', 'PC', '환경', '에', '적합', '##한', '새롭', '고', '혁신', '##적', '이', 'ㄴ', '필터', '##링', '솔루션', '을', '연구', '하고', '제공', '하', 'ㅂ', '##니다', '.', '[SEP]'], [21, 21, 21, 21, 21, 21, 21, 21, 21, 21, 21, 21, 21, 21, 21, 21, 21, 21, 21, 21, 21, 21, 21, 21, 21, 21, 21, 21, 21, 21, 7, 7, 7, 7, 7, 13, 13, 13, 13, 13, 13, 13, 13, 13, 13, 13, 13, 13, 13, 13, 13, 21, 21, 21, 21, 21, 21, 21]), (['[CLS]', '주요', '##업', '##무', '[SEP]'], [21, 21, 21, 21, 21])]\n"
          ]
        }
      ],
      "source": [
        "print(tokenized_texts_and_labels[:2]) # [(문장, 개체들), (문장, 개체들), ...]"
      ]
    },
    {
      "cell_type": "code",
      "execution_count": null,
      "metadata": {
        "id": "6MvGJCkS5q65"
      },
      "outputs": [],
      "source": [
        "# [문장, 문장, ...]\n",
        "tokenized_texts = [token_label_pair[0] for token_label_pair in tokenized_texts_and_labels]\n",
        "# [개체들, 개체들, ...]\n",
        "labels = [token_label_pair[1] for token_label_pair in tokenized_texts_and_labels]"
      ]
    },
    {
      "cell_type": "code",
      "execution_count": null,
      "metadata": {
        "colab": {
          "base_uri": "https://localhost:8080/"
        },
        "id": "j5o4Cajt5sIc",
        "outputId": "3dbaa596-ab69-49fd-f576-3483cfa396cd"
      },
      "outputs": [
        {
          "output_type": "stream",
          "name": "stdout",
          "text": [
            "80.0\n"
          ]
        }
      ],
      "source": [
        "print(np.quantile(np.array([len(x) for x in tokenized_texts]), 0.975))"
      ]
    },
    {
      "cell_type": "code",
      "execution_count": null,
      "metadata": {
        "id": "yY6W3MQE5uAY"
      },
      "outputs": [],
      "source": [
        "max_len = 80\n",
        "\n",
        "# 데이터 패딩\n",
        "input_ids = pad_sequences([tokenizer.convert_tokens_to_ids(txt) for txt in tokenized_texts],\n",
        "                          maxlen=max_len, dtype = \"int\", value=tokenizer.convert_tokens_to_ids(\"[PAD]\"), truncating=\"post\", padding=\"post\")"
      ]
    },
    {
      "cell_type": "code",
      "execution_count": null,
      "metadata": {
        "id": "_iDKTjAQ5v9n"
      },
      "outputs": [],
      "source": [
        "# 태그 패딩\n",
        "tags = pad_sequences([lab for lab in labels], maxlen=max_len, value=label_dict[\"[PAD]\"], padding='post',\\\n",
        "                     dtype='int', truncating='post')"
      ]
    },
    {
      "cell_type": "code",
      "execution_count": null,
      "metadata": {
        "colab": {
          "base_uri": "https://localhost:8080/"
        },
        "id": "iwgnnQFM6Wxn",
        "outputId": "718f9c69-3473-439c-a0a7-d1f0384b78b5"
      },
      "outputs": [
        {
          "output_type": "execute_result",
          "data": {
            "text/plain": [
              "array([    2,  7942,  2747,  2881,  1497,  4470,  2440,  3631,  1397,\n",
              "        3619,  2440,  3764,  1673,  2135,  2470,  1490,  2205,  1406,\n",
              "        5476,  5156, 15626,    12, 16731,    13,  1022,  4875,  3603,\n",
              "        3908,  1889,   793,  5221,    12,    37,  2350,    13,  6380,\n",
              "        3828,  1421,  6273,  2470,  5415,   594,  4428,  2125,  1504,\n",
              "         183, 12047,  2557,  8463,  1498,  3692,  6159,  3894,  1889,\n",
              "         187,  3606,    18,     3,     0,     0,     0,     0,     0,\n",
              "           0,     0,     0,     0,     0,     0,     0,     0,     0,\n",
              "           0,     0,     0,     0,     0,     0,     0,     0])"
            ]
          },
          "metadata": {},
          "execution_count": 23
        }
      ],
      "source": [
        "input_ids[0]"
      ]
    },
    {
      "cell_type": "code",
      "execution_count": null,
      "metadata": {
        "colab": {
          "base_uri": "https://localhost:8080/"
        },
        "id": "b7jX9fEw6ZMT",
        "outputId": "f2a6664d-908d-416c-9018-0d53148c41b4"
      },
      "outputs": [
        {
          "output_type": "execute_result",
          "data": {
            "text/plain": [
              "array([21, 21, 21, 21, 21, 21, 21, 21, 21, 21, 21, 21, 21, 21, 21, 21, 21,\n",
              "       21, 21, 21, 21, 21, 21, 21, 21, 21, 21, 21, 21, 21,  7,  7,  7,  7,\n",
              "        7, 13, 13, 13, 13, 13, 13, 13, 13, 13, 13, 13, 13, 13, 13, 13, 13,\n",
              "       21, 21, 21, 21, 21, 21, 21, 25, 25, 25, 25, 25, 25, 25, 25, 25, 25,\n",
              "       25, 25, 25, 25, 25, 25, 25, 25, 25, 25, 25, 25])"
            ]
          },
          "metadata": {},
          "execution_count": 24
        }
      ],
      "source": [
        "tags[0]"
      ]
    },
    {
      "cell_type": "code",
      "execution_count": null,
      "metadata": {
        "id": "k7MEvCU25xYi"
      },
      "outputs": [],
      "source": [
        "# 어텐션 마스크\n",
        "attention_masks = np.array([[int(i != tokenizer.convert_tokens_to_ids(\"[PAD]\")) for i in ii] for ii in input_ids])"
      ]
    },
    {
      "cell_type": "code",
      "execution_count": null,
      "metadata": {
        "id": "hTrSolVW5yTe"
      },
      "outputs": [],
      "source": [
        "# train 데이터에서 10%를 validation 데이터로 분리\n",
        "#tr_inputs, val_inputs, tr_tags, val_tags = train_test_split(input_ids, tags, random_state=2018, test_size=0.1)\n",
        "#tr_masks, val_masks, _, _ = train_test_split(attention_masks, input_ids, random_state=2018, test_size=0.1)"
      ]
    },
    {
      "cell_type": "code",
      "execution_count": null,
      "metadata": {
        "id": "dJV1KLrZCX1a"
      },
      "outputs": [],
      "source": [
        "# 8:1:1로 분리\n",
        "tr_inputs, val_inputs, tr_tags, val_tags = train_test_split(input_ids, tags, random_state=2018, test_size=0.2)\n",
        "val_inputs, test_inputs, val_tags, test_tags = train_test_split(val_inputs, val_tags, random_state=2018, test_size=0.5)\n",
        "\n",
        "tr_masks, val_masks = train_test_split(attention_masks, random_state=2018, test_size=0.2)\n",
        "val_masks, test_masks = train_test_split(val_masks, random_state=2018, test_size=0.5)"
      ]
    },
    {
      "cell_type": "code",
      "execution_count": null,
      "metadata": {
        "id": "US5KYh3a5zSi"
      },
      "outputs": [],
      "source": [
        "# TPU 작동을 위해 실행\n",
        "#resolver = tf.distribute.cluster_resolver.TPUClusterResolver(tpu='grpc://' + os.environ['COLAB_TPU_ADDR'])\n",
        "#tf.config.experimental_connect_to_cluster(resolver)\n",
        "#tf.tpu.experimental.initialize_tpu_system(resolver)"
      ]
    },
    {
      "cell_type": "markdown",
      "metadata": {
        "id": "oqZUX_7Uuxxj"
      },
      "source": [
        "## 모델 생성"
      ]
    },
    {
      "cell_type": "markdown",
      "metadata": {
        "id": "OQVy7KPWYSjf"
      },
      "source": [
        "### Import"
      ]
    },
    {
      "cell_type": "code",
      "execution_count": null,
      "metadata": {
        "id": "k6jqr4oYBf-I"
      },
      "outputs": [],
      "source": [
        "#!pip install git+https://www.github.com/keras-team/keras-contrib.git\n",
        "#!pip install keras-crf\n",
        "#from keras.layers import LSTM, Embedding, Dense, TimeDistributed, Dropout, Bidirectional\n",
        "#from keras_crf import CRFModel\n",
        "#from keras.models import Sequential"
      ]
    },
    {
      "cell_type": "code",
      "execution_count": null,
      "metadata": {
        "id": "gJI5qzFsu1Yl",
        "colab": {
          "base_uri": "https://localhost:8080/"
        },
        "outputId": "b7367afa-ee0a-4afb-c76a-e7dca4c5ba1f"
      },
      "outputs": [
        {
          "output_type": "stream",
          "name": "stdout",
          "text": [
            "Looking in indexes: https://pypi.org/simple, https://us-python.pkg.dev/colab-wheels/public/simple/\n",
            "Collecting keras-bert\n",
            "  Downloading keras-bert-0.89.0.tar.gz (25 kB)\n",
            "Requirement already satisfied: numpy in /usr/local/lib/python3.8/dist-packages (from keras-bert) (1.21.6)\n",
            "Collecting keras-transformer==0.40.0\n",
            "  Downloading keras-transformer-0.40.0.tar.gz (9.7 kB)\n",
            "Collecting keras-pos-embd==0.13.0\n",
            "  Downloading keras-pos-embd-0.13.0.tar.gz (5.6 kB)\n",
            "Collecting keras-multi-head==0.29.0\n",
            "  Downloading keras-multi-head-0.29.0.tar.gz (13 kB)\n",
            "Collecting keras-layer-normalization==0.16.0\n",
            "  Downloading keras-layer-normalization-0.16.0.tar.gz (3.9 kB)\n",
            "Collecting keras-position-wise-feed-forward==0.8.0\n",
            "  Downloading keras-position-wise-feed-forward-0.8.0.tar.gz (4.1 kB)\n",
            "Collecting keras-embed-sim==0.10.0\n",
            "  Downloading keras-embed-sim-0.10.0.tar.gz (3.6 kB)\n",
            "Collecting keras-self-attention==0.51.0\n",
            "  Downloading keras-self-attention-0.51.0.tar.gz (11 kB)\n",
            "Building wheels for collected packages: keras-bert, keras-transformer, keras-embed-sim, keras-layer-normalization, keras-multi-head, keras-pos-embd, keras-position-wise-feed-forward, keras-self-attention\n",
            "  Building wheel for keras-bert (setup.py) ... \u001b[?25l\u001b[?25hdone\n",
            "  Created wheel for keras-bert: filename=keras_bert-0.89.0-py3-none-any.whl size=33516 sha256=3fde243962309ffb67541e31688bf05a4ad0e4a9c6e9954c439461c3ebd85c56\n",
            "  Stored in directory: /root/.cache/pip/wheels/a1/34/ed/6bbd71716d7bcea30d75e8bc5aeb94f4cb52636295c8343534\n",
            "  Building wheel for keras-transformer (setup.py) ... \u001b[?25l\u001b[?25hdone\n",
            "  Created wheel for keras-transformer: filename=keras_transformer-0.40.0-py3-none-any.whl size=12304 sha256=907ded9a62e5c98c2e26e65e1901ab163f92a80e9359e3ef6c03a23309e80b10\n",
            "  Stored in directory: /root/.cache/pip/wheels/07/cd/a7/a8fa93f7e177eee0101fed63179f7a2fa3b53671ffaad82bfd\n",
            "  Building wheel for keras-embed-sim (setup.py) ... \u001b[?25l\u001b[?25hdone\n",
            "  Created wheel for keras-embed-sim: filename=keras_embed_sim-0.10.0-py3-none-any.whl size=3959 sha256=eff62ef785ea28ef5819bbf9b0140dab851daa68f94aa54e896b8051055d406f\n",
            "  Stored in directory: /root/.cache/pip/wheels/59/bd/9a/ec6e575aaa50687d7af968bde7ce710b542eeaa9ee7978d4ba\n",
            "  Building wheel for keras-layer-normalization (setup.py) ... \u001b[?25l\u001b[?25hdone\n",
            "  Created wheel for keras-layer-normalization: filename=keras_layer_normalization-0.16.0-py3-none-any.whl size=4668 sha256=a1efc9f6c3125a4ea000c72a8bb07b3fed9fa548df2c8678b5c06b9f84ede8d0\n",
            "  Stored in directory: /root/.cache/pip/wheels/d7/2b/f4/28f4bab995fa99c26b761bc7f9aeb5bf6c81e9be6ccd0b853b\n",
            "  Building wheel for keras-multi-head (setup.py) ... \u001b[?25l\u001b[?25hdone\n",
            "  Created wheel for keras-multi-head: filename=keras_multi_head-0.29.0-py3-none-any.whl size=14993 sha256=4cef35de000aa261988cdbc86a0b07b733733cc121c8724423ba3bf6f88853f2\n",
            "  Stored in directory: /root/.cache/pip/wheels/91/eb/bc/ce4bb467f5a7db6727f148f70bb0e52a62ef7edd41a19c8bdd\n",
            "  Building wheel for keras-pos-embd (setup.py) ... \u001b[?25l\u001b[?25hdone\n",
            "  Created wheel for keras-pos-embd: filename=keras_pos_embd-0.13.0-py3-none-any.whl size=6961 sha256=d2d4a68d1c66b97f54ad00688434028f423cfdb7f479517896a113d20a6f7671\n",
            "  Stored in directory: /root/.cache/pip/wheels/91/c4/ff/7e13e4f102c3b7d73ff075a50fe3266f3ec2de898d5493a8a2\n",
            "  Building wheel for keras-position-wise-feed-forward (setup.py) ... \u001b[?25l\u001b[?25hdone\n",
            "  Created wheel for keras-position-wise-feed-forward: filename=keras_position_wise_feed_forward-0.8.0-py3-none-any.whl size=4983 sha256=197c3fd53fd8fc37981b7d35272402f34c600ecad56eb7d6d77c08cc8ca4fe33\n",
            "  Stored in directory: /root/.cache/pip/wheels/f2/15/39/59861ed531ef6c7c75810500eb22c68a425f82dde31d68630a\n",
            "  Building wheel for keras-self-attention (setup.py) ... \u001b[?25l\u001b[?25hdone\n",
            "  Created wheel for keras-self-attention: filename=keras_self_attention-0.51.0-py3-none-any.whl size=18913 sha256=bb4a0105868888d1aaf18bc9d5acbf81a6b96d2803d7b064128f780fc86395f0\n",
            "  Stored in directory: /root/.cache/pip/wheels/ac/13/2d/3de7c76f618a8d162884ac5b726a8c2242ad88afa370f1e62f\n",
            "Successfully built keras-bert keras-transformer keras-embed-sim keras-layer-normalization keras-multi-head keras-pos-embd keras-position-wise-feed-forward keras-self-attention\n",
            "Installing collected packages: keras-self-attention, keras-position-wise-feed-forward, keras-pos-embd, keras-multi-head, keras-layer-normalization, keras-embed-sim, keras-transformer, keras-bert\n",
            "Successfully installed keras-bert-0.89.0 keras-embed-sim-0.10.0 keras-layer-normalization-0.16.0 keras-multi-head-0.29.0 keras-pos-embd-0.13.0 keras-position-wise-feed-forward-0.8.0 keras-self-attention-0.51.0 keras-transformer-0.40.0\n",
            "Looking in indexes: https://pypi.org/simple, https://us-python.pkg.dev/colab-wheels/public/simple/\n",
            "Collecting bert-for-tf2\n",
            "  Downloading bert-for-tf2-0.14.9.tar.gz (41 kB)\n",
            "\u001b[K     |████████████████████████████████| 41 kB 153 kB/s \n",
            "\u001b[?25hCollecting py-params>=0.9.6\n",
            "  Downloading py-params-0.10.2.tar.gz (7.4 kB)\n",
            "Collecting params-flow>=0.8.0\n",
            "  Downloading params-flow-0.8.2.tar.gz (22 kB)\n",
            "Requirement already satisfied: numpy in /usr/local/lib/python3.8/dist-packages (from params-flow>=0.8.0->bert-for-tf2) (1.21.6)\n",
            "Requirement already satisfied: tqdm in /usr/local/lib/python3.8/dist-packages (from params-flow>=0.8.0->bert-for-tf2) (4.64.1)\n",
            "Building wheels for collected packages: bert-for-tf2, params-flow, py-params\n",
            "  Building wheel for bert-for-tf2 (setup.py) ... \u001b[?25l\u001b[?25hdone\n",
            "  Created wheel for bert-for-tf2: filename=bert_for_tf2-0.14.9-py3-none-any.whl size=30534 sha256=eed2bcdf0ea53eed6aefb73d1da926cb091eef29931c510bc2d7302a54ea8fb4\n",
            "  Stored in directory: /root/.cache/pip/wheels/ab/a4/72/df07592cea3ae06b5e846f5e52262f8b16748e829ca354b7df\n",
            "  Building wheel for params-flow (setup.py) ... \u001b[?25l\u001b[?25hdone\n",
            "  Created wheel for params-flow: filename=params_flow-0.8.2-py3-none-any.whl size=19472 sha256=af0a0ef8deb2936e3e0d1bd406d42eb2d1e68eab19e4ea594e7655c6ebb4524b\n",
            "  Stored in directory: /root/.cache/pip/wheels/c7/f3/85/b8cf1d8bfe55dc2ece0f1fcd4e91d6f8fc7b59ff3fd75329e1\n",
            "  Building wheel for py-params (setup.py) ... \u001b[?25l\u001b[?25hdone\n",
            "  Created wheel for py-params: filename=py_params-0.10.2-py3-none-any.whl size=7911 sha256=b63512730b8266082b16c6347e5f6fa1623bc64aad6d4997b455f5cb34093a06\n",
            "  Stored in directory: /root/.cache/pip/wheels/ac/26/e9/df16869ccbd4abf517f1ff3be9a2c7ee5c5980fc87eea04fb1\n",
            "Successfully built bert-for-tf2 params-flow py-params\n",
            "Installing collected packages: py-params, params-flow, bert-for-tf2\n",
            "Successfully installed bert-for-tf2-0.14.9 params-flow-0.8.2 py-params-0.10.2\n",
            "Looking in indexes: https://pypi.org/simple, https://us-python.pkg.dev/colab-wheels/public/simple/\n",
            "Collecting git+https://www.github.com/keras-team/keras-contrib.git\n",
            "  Cloning https://www.github.com/keras-team/keras-contrib.git to /tmp/pip-req-build-ul8uin8z\n",
            "  Running command git clone -q https://www.github.com/keras-team/keras-contrib.git /tmp/pip-req-build-ul8uin8z\n",
            "Requirement already satisfied: keras in /usr/local/lib/python3.8/dist-packages (from keras-contrib==2.0.8) (2.9.0)\n",
            "Building wheels for collected packages: keras-contrib\n",
            "  Building wheel for keras-contrib (setup.py) ... \u001b[?25l\u001b[?25hdone\n",
            "  Created wheel for keras-contrib: filename=keras_contrib-2.0.8-py3-none-any.whl size=101076 sha256=401d5f1daefdf2a425ca1645d538b58d8d9b580987c3b4757a682af5825e1e8d\n",
            "  Stored in directory: /tmp/pip-ephem-wheel-cache-s3uy242c/wheels/67/d2/f4/96ae3c3c62d1e05abfc8860ad0c1207794726d44ebbbb547f3\n",
            "Successfully built keras-contrib\n",
            "Installing collected packages: keras-contrib\n",
            "Successfully installed keras-contrib-2.0.8\n"
          ]
        }
      ],
      "source": [
        "!pip install keras-bert\n",
        "!pip install bert-for-tf2\n",
        "#!pip install tr2crf\n",
        "!pip install git+https://www.github.com/keras-team/keras-contrib.git\n",
        "#!pip install tensorflow==2.3.0\n",
        "#!pip install --upgrade tensorflow"
      ]
    },
    {
      "cell_type": "code",
      "execution_count": null,
      "metadata": {
        "id": "WZmCblHHu8-P"
      },
      "outputs": [],
      "source": [
        "import tensorflow_hub as hub\n",
        "import keras\n",
        "from keras.models import Model, Sequential\n",
        "from tensorflow.keras.layers import Input\n",
        "from keras.layers import GRU, LSTM, Embedding, Dense, TimeDistributed, Dropout, Bidirectional, Lambda, BatchNormalization, Add\n",
        "from keras.utils import to_categorical\n",
        "from keras.callbacks import CSVLogger\n",
        "from keras.optimizers import Adam\n",
        "from keras_bert import load_trained_model_from_checkpoint\n",
        "from keras_contrib.layers import CRF\n",
        "from transformers import TFBertForMaskedLM, TFBertModel, TFAutoModelForSequenceClassification\n",
        "import bert"
      ]
    },
    {
      "cell_type": "markdown",
      "metadata": {
        "id": "IZiMJl2ByUGH"
      },
      "source": [
        "### 삽질한거"
      ]
    },
    {
      "cell_type": "code",
      "execution_count": null,
      "metadata": {
        "id": "EfXwMQOJ50VA"
      },
      "outputs": [],
      "source": [
        "## 1차 시도\n",
        "SEQ_LEN = max_len\n",
        "def create_model():\n",
        "  model = TFBertModel.from_pretrained(\"bert-base-multilingual-cased\", from_pt=True, num_labels=len(label_dict), output_attentions = False,\n",
        "    output_hidden_states = False)\n",
        "\n",
        "  token_inputs = tf.keras.layers.Input((SEQ_LEN,), dtype=tf.int32, name='input_word_ids') # 토큰 인풋\n",
        "  mask_inputs = tf.keras.layers.Input((SEQ_LEN,), dtype=tf.int32, name='input_masks') # 마스크 인풋\n",
        "\n",
        "  bert_outputs = model([token_inputs, mask_inputs])\n",
        "  bert_outputs = bert_outputs[0] # shape : (Batch_size, max_len, 30(개체의 총 개수))\n",
        "  nr = tf.keras.layers.Dense(30, activation='softmax')(bert_outputs) # shape : (Batch_size, max_len, 30)\n",
        "  \n",
        "  nr_model = Sequential()\n",
        "  #nr_model = tf.keras.Model([token_inputs, mask_inputs], nr)\n",
        "  nr_model.add(tf.keras.Model([token_inputs, mask_inputs], nr))\n",
        "  \n",
        "  nr_model.add(Bidirectional(LSTM(128))) # 128: hidden units\n",
        "  #nr_model.add(Dense(50, activation=\"relu\"))\n",
        "  nr_model.add(CRF(26)) # 26: tag size\n",
        "\n",
        "  nr_model.compile(optimizer=tf.keras.optimizers.Adam(lr=0.0001), loss=tf.keras.losses.SparseCategoricalCrossentropy(from_logits=False),\n",
        "      metrics=['sparse_categorical_accuracy'])\n",
        "  nr_model.summary()\n",
        "  return nr_model"
      ]
    },
    {
      "cell_type": "code",
      "execution_count": null,
      "metadata": {
        "id": "CoJ2YEXiFBYU"
      },
      "outputs": [],
      "source": [
        "## 2차 시도\n",
        "from tensorflow.keras import Model\n",
        "from keras_contrib.layers import CRF\n",
        "\n",
        "SEQ_LEN = max_len\n",
        "embedding_dim = 128\n",
        "hidden_units = 64\n",
        "dropout_ratio = 0.3\n",
        "tag_size = 26\n",
        "vocab_size = 119547 + 1\n",
        "\n",
        "def create_model():\n",
        "  model = TFBertModel.from_pretrained(\"bert-base-multilingual-cased\", from_pt=True, num_labels=len(label_dict), output_attentions = False,\n",
        "    output_hidden_states = False)\n",
        "\n",
        "  token_inputs = tf.keras.layers.Input((SEQ_LEN,), dtype=tf.int32, name='input_word_ids') # 토큰 인풋\n",
        "  mask_inputs = tf.keras.layers.Input((SEQ_LEN,), dtype=tf.int32, name='input_masks') # 마스크 인풋\n",
        "  print(\"aaaaaaaaaaaaaaaaaaaaaaaaaaaaaa\")\n",
        "  bert_outputs = model([token_inputs, mask_inputs])\n",
        "  print(\"bbbbbbbbbbbbbbbbbbbbbbbbbbbbbbbbb\")\n",
        "  last_encoder_layer = bert_outputs[0]\n",
        "  print(\"ccccccccccccccccccccccccccccccccccccccc\")\n",
        "  last_encoder_layer = Dropout(dropout_ratio)(last_encoder_layer)\n",
        "  print(\"ccccccccccccccccccccccccccccccccccccccc\")\n",
        "  model_bilstm = Bidirectional(LSTM(units=hidden_units, return_sequences=True))(last_encoder_layer)\n",
        "  print(\"ddddddddddddddddddddddddddddddddddddddddd\")\n",
        "  model_dense = TimeDistributed(Dense(tag_size, activation='relu'))(model_bilstm)\n",
        "  print(\"eeeeeeeeeeeeeeeeeeeeeeeeeeeeeeeeeeeeeeeeeeee\")\n",
        "  #base = Model(inputs=token_inputs, outputs=model_dense)\n",
        "  print(\"fffffffffffffffffffffffffffffffffffffff\")\n",
        "  model = CRFModel(model_dense, tag_size)\n",
        "  print(\"fffffffffffffffffffffffffffffffffffffff\")\n",
        "  nr_model.compile(optimizer=tf.keras.optimizers.Adam(lr=0.00002), loss=tf.keras.losses.SparseCategoricalCrossentropy(from_logits=False),\n",
        "      metrics=['sparse_categorical_accuracy'])\n",
        "  nr_model.summary()\n",
        "  return nr_model"
      ]
    },
    {
      "cell_type": "code",
      "execution_count": null,
      "metadata": {
        "id": "4eRiGwed2b2A"
      },
      "outputs": [],
      "source": [
        "# 3차 시도\n",
        "#!pip install git+https://www.github.com/keras-team/keras-contrib.git\n",
        "#from keras.models import Sequential\n",
        "#from keras.layers import InputLayer\n",
        "#from keras_contrib.layers import CRF\n",
        "import torch.nn as nn\n",
        "import torch\n",
        "from torchcrf import CRF\n",
        "\n",
        "SEQ_LEN = max_len\n",
        "embedding_dim = 128\n",
        "hidden_units = 64\n",
        "dropout_ratio = 0.3\n",
        "tag_size = 26\n",
        "vocab_size = 119547 + 1\n",
        "\n",
        "def create_model():\n",
        "  token_inputs = tf.keras.layers.Input((SEQ_LEN,), dtype=tf.int32, name='input_word_ids') # 토큰 인풋\n",
        "  mask_inputs = tf.keras.layers.Input((SEQ_LEN,), dtype=tf.int32, name='input_masks') # 마스크 인풋\n",
        "  print(\"aaa\")\n",
        "  print(\"bbb\")\n",
        "  bert_output = TFBertModel.from_pretrained(\"bert-base-multilingual-cased\", from_pt=True, num_labels=len(label_dict), output_attentions = False,\n",
        "    output_hidden_states = False)([token_inputs, mask_inputs])\n",
        "  bert_output = bert_output[0] \n",
        "  bert_output = nn.Dropout(dropout_ratio)(bert_output)\n",
        "  print(\"ccc\")\n",
        "  bilstm_output, hc = nn.LSTM(hidden_units, (hidden_units), bidirectional=True)(bert_output)\n",
        "  logits = nn.Linear(hidden_units, tag_size)(bilstm_output)\n",
        "  crf = CRF(tag_size, batch_first=True)\n",
        "  log_likelihood, tags = crf(logits, label), crf.decode(nn.Linear(hidden_units, len(label_dict)))\n",
        "  print(\"fffffffffffffffffffffffffffffffffffffff\")\n",
        "  model.compile(optimizer=tf.keras.optimizers.Adam(lr=0.00002), loss=tf.keras.losses.SparseCategoricalCrossentropy(from_logits=False),\n",
        "      metrics=['sparse_categorical_accuracy'])\n",
        "  model.summary()\n",
        "  return model"
      ]
    },
    {
      "cell_type": "code",
      "execution_count": null,
      "metadata": {
        "id": "H29t4ylmwGgq"
      },
      "outputs": [],
      "source": [
        "# 4차 시도\n",
        "input_length = max_len\n",
        "hidden_size = 100\n",
        "output_size = len(label_dict)\n",
        "learning_rate = 0.001\n",
        "\n",
        "from keras.layers.core import Reshape\n",
        "\n",
        "def create_model():\n",
        "  input_ids = Input(shape=(input_length,), name='input_word_ids', dtype=tf.int32)\n",
        "  attention_mask = Input(shape=(input_length,), name='attention_mask', dtype=tf.float32)\n",
        "  #input_ids = tensor_util.convert_nonref_to_tensor(input_ids, dtype_hint=tf.int32, name='input_word_ids')\n",
        "  #attention_mask = tensor_util.convert_nonref_to_tensor(attention_mask, dtype_hint=tf.float32, name='attention_mask')\n",
        "  \n",
        "  bert_model = TFBertModel.from_pretrained(\"bert-base-multilingual-cased\", num_labels=output_size)([input_ids, attention_mask])\n",
        "  #bert_model = TFBertModel.from_pretrained(\"klue/roberta-small\", from_pt=True, num_labels=len(label_dict), output_attentions = False,\n",
        "  #   output_hidden_states = False)([input_ids, attention_mask])\n",
        "  #bert_model = TFBertModel.from_pretrained(\"bert-base-multilingual-cased\", from_pt=True, num_labels=len(label_dict), output_attentions = False,\n",
        "  #   output_hidden_states = False)(input_ids, attention_mask=attention_mask)\n",
        "  #bert_model = TFBertModel.from_pretrained(\"bert-base-multilingual-cased\", from_pt=True, num_labels=len(label_dict), output_attentions = False,\n",
        "  #   output_hidden_states = False)\n",
        "  #bert_model.save_pretrained(\"model/\")\n",
        "  #bert_model = TFBertForMaskedLM.from_pretrained(\"model/\")\n",
        "  #bert_output = bert_model(input_ids, attention_mask=attention_mask)[0]\n",
        "  bert_output = bert_model[0]\n",
        "\n",
        "  #bilstm_layer = Bidirectional(LSTM(hidden_size, return_sequences=True))\n",
        "  #bilstm_layer_out = bilstm_layer(Dropout(0.5)(bert_output))\n",
        "\n",
        "  #time_distributed_layer = TimeDistributed(Dense(output_size))\n",
        "  #time_distributed_layer_out = time_distributed_layer(bilstm_layer_out)\n",
        "\n",
        "  #crf = CRF(dtype=tf.float32, units=output_size)\n",
        "  #crf_out = crf(BatchNormalization()(bilstm_layer_out))\n",
        "\n",
        "  model = Model(inputs=[input_ids, attention_mask], outputs=bert_output)\n",
        "  model.compile(\n",
        "      optimizer=tf.keras.optimizers.Adam(learning_rate=learning_rate), \n",
        "      loss=keras.losses.BinaryCrossentropy(from_logits=True),\n",
        "      metrics=keras.metrics.BinaryAccuracy(threshold=0.0))\n",
        "      # loss=tf.keras.losses.SparseCategoricalCrossentropy(from_logits=False),\n",
        "      # metrics=['sparse_categorical_accuracy'])\n",
        "  model.summary()\n",
        "  return model"
      ]
    },
    {
      "cell_type": "markdown",
      "metadata": {
        "id": "QG5uJTEWyWN-"
      },
      "source": [
        "### 최근 시도"
      ]
    },
    {
      "cell_type": "code",
      "execution_count": null,
      "metadata": {
        "id": "w_RBTThnG08Z"
      },
      "outputs": [],
      "source": [
        "from transformers import BertConfig, BertModel, AutoModelForSequenceClassification\n",
        "from transformers import TFAutoModel\n",
        "from tensorflow_probability.python.internal import tensor_util"
      ]
    },
    {
      "cell_type": "code",
      "execution_count": null,
      "metadata": {
        "colab": {
          "base_uri": "https://localhost:8080/"
        },
        "id": "nVYCUy5N_UYh",
        "outputId": "03d1760c-6f3c-4a6d-e68d-7ce15cea4ab1"
      },
      "outputs": [
        {
          "output_type": "stream",
          "name": "stdout",
          "text": [
            "(2565, 80) (2565, 80) (2565, 80)\n",
            "(321, 80) (321, 80) (321, 80)\n",
            "(321, 80) (321, 80) (321, 80)\n"
          ]
        }
      ],
      "source": [
        "print(np.shape(tr_inputs), np.shape(tr_masks), np.shape(tr_tags))\n",
        "print(np.shape(val_inputs), np.shape(val_masks), np.shape(val_tags))\n",
        "print(np.shape(test_inputs), np.shape(test_masks), np.shape(test_tags))"
      ]
    },
    {
      "cell_type": "markdown",
      "metadata": {
        "id": "aICDSc_QS96U"
      },
      "source": [
        "# Bert"
      ]
    },
    {
      "cell_type": "code",
      "execution_count": null,
      "metadata": {
        "id": "adtb-rbvQOdH"
      },
      "outputs": [],
      "source": [
        "# 5차 시도\n",
        "# bert\n",
        "SEQ_LEN = max_len\n",
        "input_length = max_len\n",
        "hidden_size = 100\n",
        "output_size = len(label_dict)\n",
        "learning_rate = 0.00002\n",
        "\n",
        "def create_model():\n",
        "  model = TFBertModel.from_pretrained(\"klue/bert-base\", from_pt=True, num_labels=len(label_dict), output_attentions = False,\n",
        "    output_hidden_states = False)\n",
        "\n",
        "  token_inputs = tf.keras.layers.Input((SEQ_LEN,), dtype=tf.int32, name='input_word_ids') # 토큰 인풋\n",
        "  mask_inputs = tf.keras.layers.Input((SEQ_LEN,), dtype=tf.int32, name='input_masks') # 마스크 인풋\n",
        "\n",
        "  bert_outputs = model([token_inputs, mask_inputs])\n",
        "  bert_outputs = bert_outputs[0]\n",
        "  nr = tf.keras.layers.Dense(30, activation='softmax')(bert_outputs)\n",
        "\n",
        "  #bilstm_layer = Bidirectional(LSTM(hidden_size, return_sequences=True))\n",
        "  #bilstm_layer_out = bilstm_layer(nr)\n",
        "\n",
        "  #crf = CRF(dtype=tf.float32, units=output_size)\n",
        "  #crf_out = crf(bilstm_layer_out)\n",
        "  \n",
        "  nr_model = tf.keras.Model([token_inputs, mask_inputs], nr)\n",
        "  \n",
        "  nr_model.compile(optimizer=tf.keras.optimizers.Adam(lr=learning_rate), loss=tf.keras.losses.SparseCategoricalCrossentropy(from_logits=False),\n",
        "      metrics=['sparse_categorical_accuracy'])\n",
        "  nr_model.summary()\n",
        "  return nr_model"
      ]
    },
    {
      "cell_type": "code",
      "source": [
        "!pip list"
      ],
      "metadata": {
        "id": "40S_1aG2DpxI"
      },
      "execution_count": null,
      "outputs": []
    },
    {
      "cell_type": "code",
      "execution_count": null,
      "metadata": {
        "colab": {
          "base_uri": "https://localhost:8080/"
        },
        "id": "cILN8rsT6Bn-",
        "outputId": "851d4054-b68b-42c9-9e70-bdb7b3c4328e"
      },
      "outputs": [
        {
          "output_type": "stream",
          "name": "stdout",
          "text": [
            "Model: \"model_4\"\n",
            "__________________________________________________________________________________________________\n",
            " Layer (type)                   Output Shape         Param #     Connected to                     \n",
            "==================================================================================================\n",
            " input_word_ids (InputLayer)    [(None, 80)]         0           []                               \n",
            "                                                                                                  \n",
            " input_masks (InputLayer)       [(None, 80)]         0           []                               \n",
            "                                                                                                  \n",
            " tf_bert_model_4 (TFBertModel)  TFBaseModelOutputWi  110617344   ['input_word_ids[0][0]',         \n",
            "                                thPoolingAndCrossAt               'input_masks[0][0]']            \n",
            "                                tentions(last_hidde                                               \n",
            "                                n_state=(None, 80,                                                \n",
            "                                768),                                                             \n",
            "                                 pooler_output=(Non                                               \n",
            "                                e, 768),                                                          \n",
            "                                 past_key_values=No                                               \n",
            "                                ne, hidden_states=N                                               \n",
            "                                one, attentions=Non                                               \n",
            "                                e, cross_attentions                                               \n",
            "                                =None)                                                            \n",
            "                                                                                                  \n",
            " dense_4 (Dense)                (None, 80, 30)       23070       ['tf_bert_model_4[0][0]']        \n",
            "                                                                                                  \n",
            "==================================================================================================\n",
            "Total params: 110,640,414\n",
            "Trainable params: 110,640,414\n",
            "Non-trainable params: 0\n",
            "__________________________________________________________________________________________________\n",
            "Epoch 1/50\n"
          ]
        },
        {
          "output_type": "stream",
          "name": "stderr",
          "text": [
            "/usr/local/lib/python3.8/dist-packages/keras/optimizers/optimizer_v2/adam.py:110: UserWarning: The `lr` argument is deprecated, use `learning_rate` instead.\n",
            "  super(Adam, self).__init__(name, **kwargs)\n",
            "WARNING:tensorflow:Gradients do not exist for variables ['tf_bert_model_4/bert/pooler/dense/kernel:0', 'tf_bert_model_4/bert/pooler/dense/bias:0'] when minimizing the loss. If you're using `model.compile()`, did you forget to provide a `loss`argument?\n",
            "WARNING:tensorflow:Gradients do not exist for variables ['tf_bert_model_4/bert/pooler/dense/kernel:0', 'tf_bert_model_4/bert/pooler/dense/bias:0'] when minimizing the loss. If you're using `model.compile()`, did you forget to provide a `loss`argument?\n"
          ]
        },
        {
          "output_type": "stream",
          "name": "stdout",
          "text": [
            "41/41 [==============================] - 23s 197ms/step - loss: 0.5234 - sparse_categorical_accuracy: 0.8921 - val_loss: 0.1975 - val_sparse_categorical_accuracy: 0.9646\n",
            "Epoch 2/50\n",
            "41/41 [==============================] - 5s 125ms/step - loss: 0.1490 - sparse_categorical_accuracy: 0.9708 - val_loss: 0.1523 - val_sparse_categorical_accuracy: 0.9667\n",
            "Epoch 3/50\n",
            "41/41 [==============================] - 5s 125ms/step - loss: 0.1225 - sparse_categorical_accuracy: 0.9727 - val_loss: 0.1345 - val_sparse_categorical_accuracy: 0.9677\n",
            "Epoch 4/50\n",
            "41/41 [==============================] - 5s 125ms/step - loss: 0.1066 - sparse_categorical_accuracy: 0.9740 - val_loss: 0.1229 - val_sparse_categorical_accuracy: 0.9697\n",
            "Epoch 5/50\n",
            "41/41 [==============================] - 5s 126ms/step - loss: 0.0946 - sparse_categorical_accuracy: 0.9754 - val_loss: 0.1162 - val_sparse_categorical_accuracy: 0.9708\n",
            "Epoch 6/50\n",
            "41/41 [==============================] - 5s 126ms/step - loss: 0.0850 - sparse_categorical_accuracy: 0.9773 - val_loss: 0.1112 - val_sparse_categorical_accuracy: 0.9715\n",
            "Epoch 7/50\n",
            "41/41 [==============================] - 5s 126ms/step - loss: 0.0734 - sparse_categorical_accuracy: 0.9794 - val_loss: 0.1091 - val_sparse_categorical_accuracy: 0.9721\n",
            "Epoch 8/50\n",
            "41/41 [==============================] - 5s 125ms/step - loss: 0.0672 - sparse_categorical_accuracy: 0.9807 - val_loss: 0.1148 - val_sparse_categorical_accuracy: 0.9726\n",
            "Epoch 9/50\n",
            "41/41 [==============================] - 5s 126ms/step - loss: 0.0628 - sparse_categorical_accuracy: 0.9821 - val_loss: 0.1011 - val_sparse_categorical_accuracy: 0.9716\n",
            "Epoch 10/50\n",
            "41/41 [==============================] - 5s 126ms/step - loss: 0.0520 - sparse_categorical_accuracy: 0.9845 - val_loss: 0.1098 - val_sparse_categorical_accuracy: 0.9693\n",
            "Epoch 11/50\n",
            "41/41 [==============================] - 5s 125ms/step - loss: 0.0421 - sparse_categorical_accuracy: 0.9870 - val_loss: 0.1040 - val_sparse_categorical_accuracy: 0.9709\n",
            "Epoch 12/50\n",
            "41/41 [==============================] - 5s 125ms/step - loss: 0.0349 - sparse_categorical_accuracy: 0.9892 - val_loss: 0.1041 - val_sparse_categorical_accuracy: 0.9725\n",
            "Epoch 13/50\n",
            "41/41 [==============================] - 5s 126ms/step - loss: 0.0300 - sparse_categorical_accuracy: 0.9909 - val_loss: 0.1063 - val_sparse_categorical_accuracy: 0.9731\n",
            "Epoch 14/50\n",
            "41/41 [==============================] - 5s 125ms/step - loss: 0.0263 - sparse_categorical_accuracy: 0.9921 - val_loss: 0.1082 - val_sparse_categorical_accuracy: 0.9732\n",
            "Epoch 15/50\n",
            "41/41 [==============================] - 5s 125ms/step - loss: 0.0234 - sparse_categorical_accuracy: 0.9928 - val_loss: 0.1193 - val_sparse_categorical_accuracy: 0.9698\n",
            "Epoch 16/50\n",
            "41/41 [==============================] - 5s 125ms/step - loss: 0.0210 - sparse_categorical_accuracy: 0.9934 - val_loss: 0.1111 - val_sparse_categorical_accuracy: 0.9732\n",
            "Epoch 17/50\n",
            "41/41 [==============================] - 5s 125ms/step - loss: 0.0184 - sparse_categorical_accuracy: 0.9944 - val_loss: 0.1123 - val_sparse_categorical_accuracy: 0.9741\n",
            "Epoch 18/50\n",
            "41/41 [==============================] - 5s 125ms/step - loss: 0.0164 - sparse_categorical_accuracy: 0.9952 - val_loss: 0.1136 - val_sparse_categorical_accuracy: 0.9754\n",
            "Epoch 19/50\n",
            "41/41 [==============================] - 5s 125ms/step - loss: 0.0142 - sparse_categorical_accuracy: 0.9956 - val_loss: 0.1225 - val_sparse_categorical_accuracy: 0.9757\n",
            "Epoch 20/50\n",
            "41/41 [==============================] - 5s 125ms/step - loss: 0.0131 - sparse_categorical_accuracy: 0.9960 - val_loss: 0.1351 - val_sparse_categorical_accuracy: 0.9752\n",
            "Epoch 21/50\n",
            "41/41 [==============================] - 5s 125ms/step - loss: 0.0139 - sparse_categorical_accuracy: 0.9957 - val_loss: 0.1497 - val_sparse_categorical_accuracy: 0.9746\n",
            "Epoch 22/50\n",
            "41/41 [==============================] - 5s 125ms/step - loss: 0.0158 - sparse_categorical_accuracy: 0.9950 - val_loss: 0.1359 - val_sparse_categorical_accuracy: 0.9755\n",
            "Epoch 23/50\n",
            "41/41 [==============================] - 5s 125ms/step - loss: 0.0152 - sparse_categorical_accuracy: 0.9952 - val_loss: 0.1237 - val_sparse_categorical_accuracy: 0.9734\n",
            "Epoch 24/50\n",
            "41/41 [==============================] - 5s 127ms/step - loss: 0.0110 - sparse_categorical_accuracy: 0.9964 - val_loss: 0.1299 - val_sparse_categorical_accuracy: 0.9730\n",
            "Epoch 25/50\n",
            "41/41 [==============================] - 5s 126ms/step - loss: 0.0077 - sparse_categorical_accuracy: 0.9977 - val_loss: 0.1338 - val_sparse_categorical_accuracy: 0.9748\n",
            "Epoch 26/50\n",
            "41/41 [==============================] - 5s 126ms/step - loss: 0.0060 - sparse_categorical_accuracy: 0.9983 - val_loss: 0.1385 - val_sparse_categorical_accuracy: 0.9743\n",
            "Epoch 27/50\n",
            "41/41 [==============================] - 5s 126ms/step - loss: 0.0054 - sparse_categorical_accuracy: 0.9985 - val_loss: 0.1389 - val_sparse_categorical_accuracy: 0.9750\n",
            "Epoch 28/50\n",
            "41/41 [==============================] - 5s 125ms/step - loss: 0.0047 - sparse_categorical_accuracy: 0.9987 - val_loss: 0.1424 - val_sparse_categorical_accuracy: 0.9748\n",
            "Epoch 29/50\n",
            "41/41 [==============================] - 5s 125ms/step - loss: 0.0046 - sparse_categorical_accuracy: 0.9988 - val_loss: 0.1449 - val_sparse_categorical_accuracy: 0.9753\n",
            "Epoch 30/50\n",
            "41/41 [==============================] - 5s 126ms/step - loss: 0.0037 - sparse_categorical_accuracy: 0.9990 - val_loss: 0.1434 - val_sparse_categorical_accuracy: 0.9752\n",
            "Epoch 31/50\n",
            "41/41 [==============================] - 5s 125ms/step - loss: 0.0037 - sparse_categorical_accuracy: 0.9990 - val_loss: 0.1479 - val_sparse_categorical_accuracy: 0.9756\n",
            "Epoch 32/50\n",
            "41/41 [==============================] - 5s 125ms/step - loss: 0.0033 - sparse_categorical_accuracy: 0.9991 - val_loss: 0.1503 - val_sparse_categorical_accuracy: 0.9755\n",
            "Epoch 33/50\n",
            "41/41 [==============================] - 5s 125ms/step - loss: 0.0030 - sparse_categorical_accuracy: 0.9992 - val_loss: 0.1505 - val_sparse_categorical_accuracy: 0.9758\n",
            "Epoch 34/50\n",
            "41/41 [==============================] - 5s 125ms/step - loss: 0.0027 - sparse_categorical_accuracy: 0.9993 - val_loss: 0.1552 - val_sparse_categorical_accuracy: 0.9755\n",
            "Epoch 35/50\n",
            "41/41 [==============================] - 5s 125ms/step - loss: 0.0026 - sparse_categorical_accuracy: 0.9992 - val_loss: 0.1547 - val_sparse_categorical_accuracy: 0.9754\n",
            "Epoch 36/50\n",
            "41/41 [==============================] - 5s 125ms/step - loss: 0.0025 - sparse_categorical_accuracy: 0.9994 - val_loss: 0.1497 - val_sparse_categorical_accuracy: 0.9755\n",
            "Epoch 37/50\n",
            "41/41 [==============================] - 5s 125ms/step - loss: 0.0024 - sparse_categorical_accuracy: 0.9994 - val_loss: 0.1528 - val_sparse_categorical_accuracy: 0.9757\n",
            "Epoch 38/50\n",
            "41/41 [==============================] - 5s 125ms/step - loss: 0.0023 - sparse_categorical_accuracy: 0.9994 - val_loss: 0.1516 - val_sparse_categorical_accuracy: 0.9758\n",
            "Epoch 39/50\n",
            "41/41 [==============================] - 5s 125ms/step - loss: 0.0019 - sparse_categorical_accuracy: 0.9995 - val_loss: 0.1598 - val_sparse_categorical_accuracy: 0.9757\n",
            "Epoch 40/50\n",
            "41/41 [==============================] - 5s 126ms/step - loss: 0.0020 - sparse_categorical_accuracy: 0.9995 - val_loss: 0.1567 - val_sparse_categorical_accuracy: 0.9762\n",
            "Epoch 41/50\n",
            "41/41 [==============================] - 5s 126ms/step - loss: 0.0017 - sparse_categorical_accuracy: 0.9996 - val_loss: 0.1621 - val_sparse_categorical_accuracy: 0.9760\n",
            "Epoch 42/50\n",
            "41/41 [==============================] - 5s 125ms/step - loss: 0.0017 - sparse_categorical_accuracy: 0.9995 - val_loss: 0.1628 - val_sparse_categorical_accuracy: 0.9756\n",
            "Epoch 43/50\n",
            "41/41 [==============================] - 5s 125ms/step - loss: 0.0015 - sparse_categorical_accuracy: 0.9996 - val_loss: 0.1651 - val_sparse_categorical_accuracy: 0.9761\n",
            "Epoch 44/50\n",
            "41/41 [==============================] - 5s 125ms/step - loss: 0.0018 - sparse_categorical_accuracy: 0.9995 - val_loss: 0.1674 - val_sparse_categorical_accuracy: 0.9759\n",
            "Epoch 45/50\n",
            "41/41 [==============================] - 5s 125ms/step - loss: 0.0015 - sparse_categorical_accuracy: 0.9996 - val_loss: 0.1693 - val_sparse_categorical_accuracy: 0.9759\n",
            "Epoch 46/50\n",
            "41/41 [==============================] - 5s 125ms/step - loss: 0.0014 - sparse_categorical_accuracy: 0.9996 - val_loss: 0.1655 - val_sparse_categorical_accuracy: 0.9760\n",
            "Epoch 47/50\n",
            "41/41 [==============================] - 5s 125ms/step - loss: 0.0014 - sparse_categorical_accuracy: 0.9996 - val_loss: 0.1698 - val_sparse_categorical_accuracy: 0.9759\n",
            "Epoch 48/50\n",
            "41/41 [==============================] - 5s 125ms/step - loss: 0.0013 - sparse_categorical_accuracy: 0.9996 - val_loss: 0.1686 - val_sparse_categorical_accuracy: 0.9757\n",
            "Epoch 49/50\n",
            "41/41 [==============================] - 5s 125ms/step - loss: 0.0012 - sparse_categorical_accuracy: 0.9996 - val_loss: 0.1715 - val_sparse_categorical_accuracy: 0.9762\n",
            "Epoch 50/50\n",
            "41/41 [==============================] - 5s 125ms/step - loss: 0.0014 - sparse_categorical_accuracy: 0.9996 - val_loss: 0.1695 - val_sparse_categorical_accuracy: 0.9755\n"
          ]
        },
        {
          "output_type": "execute_result",
          "data": {
            "text/plain": [
              "<keras.callbacks.History at 0x7fb9ae899130>"
            ]
          },
          "metadata": {},
          "execution_count": 46
        }
      ],
      "source": [
        "from transformers import logging\n",
        "logging.set_verbosity_error()\n",
        "\n",
        "# GPU 사용하여 훈련\n",
        "bs = 64\n",
        "nr_model = create_model()\n",
        "nr_model.fit([tr_inputs, tr_masks], tr_tags, validation_data=([val_inputs, val_masks], val_tags), epochs=50, shuffle=False, batch_size=bs)"
      ]
    },
    {
      "cell_type": "code",
      "execution_count": null,
      "metadata": {
        "id": "9x0FU8a2SiVz"
      },
      "outputs": [],
      "source": [
        "# # TPU로 훈련\n",
        "# bs = 32\n",
        "# strategy = tf.distribute.experimental.TPUStrategy(resolver)\n",
        "# # TPU를 활용하기 위해 context로 묶어주기\n",
        "# with strategy.scope():\n",
        "#   nr_model = create_model()\n",
        "#   nr_model.fit([tr_inputs, tr_masks], tr_tags, validation_data=([val_inputs, val_masks], val_tags), epochs=10, shuffle=False, batch_size=bs)"
      ]
    },
    {
      "cell_type": "code",
      "execution_count": null,
      "metadata": {
        "id": "x1_ARJKiSkIh",
        "colab": {
          "base_uri": "https://localhost:8080/"
        },
        "outputId": "c4badf86-fbe0-447c-921e-599e518b4d7c"
      },
      "outputs": [
        {
          "output_type": "stream",
          "name": "stdout",
          "text": [
            "11/11 [==============================] - 3s 34ms/step\n"
          ]
        }
      ],
      "source": [
        "from sklearn.metrics import precision_score, recall_score, f1_score, classification_report\n",
        "\n",
        "y_predicted = nr_model.predict([test_inputs, test_masks])"
      ]
    },
    {
      "cell_type": "code",
      "execution_count": null,
      "metadata": {
        "id": "F9xY23QHSlny"
      },
      "outputs": [],
      "source": [
        "f_label = [i for i, j in label_dict.items()]\n",
        "test_tags_l = [index_to_ner[x] for x in np.ravel(test_tags).astype(int).tolist() if x < 26]\n",
        "y_predicted_l = [index_to_ner[x] for x in np.ravel(np.argmax(y_predicted, axis=2)).astype(int).tolist() if x < 26]\n",
        "f_label.remove(\"[PAD]\")"
      ]
    },
    {
      "cell_type": "code",
      "execution_count": null,
      "metadata": {
        "id": "VGULIWdPSoYN",
        "colab": {
          "base_uri": "https://localhost:8080/"
        },
        "outputId": "409d48c9-1e7e-46da-d3f5-e63276173c77"
      },
      "outputs": [
        {
          "output_type": "stream",
          "name": "stderr",
          "text": [
            "/usr/local/lib/python3.8/dist-packages/sklearn/metrics/_classification.py:1318: UndefinedMetricWarning: Precision and F-score are ill-defined and being set to 0.0 in labels with no predicted samples. Use `zero_division` parameter to control this behavior.\n",
            "  _warn_prf(average, modifier, msg_start, len(result))\n",
            "/usr/local/lib/python3.8/dist-packages/sklearn/metrics/_classification.py:1318: UndefinedMetricWarning: Recall and F-score are ill-defined and being set to 0.0 in labels with no true samples. Use `zero_division` parameter to control this behavior.\n",
            "  _warn_prf(average, modifier, msg_start, len(result))\n",
            "/usr/local/lib/python3.8/dist-packages/sklearn/metrics/_classification.py:1318: UndefinedMetricWarning: Precision and F-score are ill-defined and being set to 0.0 in labels with no predicted samples. Use `zero_division` parameter to control this behavior.\n",
            "  _warn_prf(average, modifier, msg_start, len(result))\n",
            "/usr/local/lib/python3.8/dist-packages/sklearn/metrics/_classification.py:1318: UndefinedMetricWarning: Recall and F-score are ill-defined and being set to 0.0 in labels with no true samples. Use `zero_division` parameter to control this behavior.\n",
            "  _warn_prf(average, modifier, msg_start, len(result))\n"
          ]
        },
        {
          "output_type": "stream",
          "name": "stdout",
          "text": [
            "              precision    recall  f1-score   support\n",
            "\n",
            "         nan       0.00      0.00      0.00        21\n",
            "        B_DB       0.50      1.00      0.67         1\n",
            "        I_PL       0.00      0.00      0.00         0\n",
            "        I_CS       0.36      0.37      0.37        73\n",
            "        B_DT       0.50      0.71      0.59        28\n",
            "        B_CS       0.74      0.76      0.75       113\n",
            "        I_HW       1.00      0.14      0.25         7\n",
            "        B_AW       0.61      0.57      0.59        47\n",
            "        I_SC       0.00      0.00      0.00         2\n",
            "        B_SS       0.49      0.47      0.48        73\n",
            "        B_PL       0.56      0.56      0.56         9\n",
            "        I_NT       0.00      0.00      0.00         2\n",
            "        9999       0.98      1.00      0.99       180\n",
            "        I_AW       0.27      0.14      0.19        49\n",
            "        B_SC       0.00      0.00      0.00         3\n",
            "        I_OS       0.00      0.00      0.00         0\n",
            "        I_DT       0.40      0.44      0.42        52\n",
            "        I_SW       0.42      0.62      0.50         8\n",
            "        B_HW       1.00      0.67      0.80         6\n",
            "        B_OS       0.00      0.00      0.00         0\n",
            "        B_SW       0.67      0.31      0.42        13\n",
            "           -       0.96      0.98      0.97      8368\n",
            "        I_SS       0.71      0.42      0.53       224\n",
            "        I_DB       0.00      0.00      0.00         4\n",
            "        B_NT       1.00      0.21      0.34        24\n",
            "\n",
            "   micro avg       0.94      0.94      0.94      9307\n",
            "   macro avg       0.45      0.38      0.38      9307\n",
            "weighted avg       0.93      0.94      0.93      9307\n",
            "\n"
          ]
        },
        {
          "output_type": "stream",
          "name": "stderr",
          "text": [
            "/usr/local/lib/python3.8/dist-packages/sklearn/metrics/_classification.py:1318: UndefinedMetricWarning: Precision and F-score are ill-defined and being set to 0.0 in labels with no predicted samples. Use `zero_division` parameter to control this behavior.\n",
            "  _warn_prf(average, modifier, msg_start, len(result))\n",
            "/usr/local/lib/python3.8/dist-packages/sklearn/metrics/_classification.py:1318: UndefinedMetricWarning: Recall and F-score are ill-defined and being set to 0.0 in labels with no true samples. Use `zero_division` parameter to control this behavior.\n",
            "  _warn_prf(average, modifier, msg_start, len(result))\n"
          ]
        }
      ],
      "source": [
        "# f1 score 측정\n",
        "# macro avg: 전체 정답을 기준으로 f1 score 측정\n",
        "# macro avg: 각 개체별 f1 score 가중평균\n",
        "print(classification_report(test_tags_l, y_predicted_l, labels=f_label))"
      ]
    },
    {
      "cell_type": "code",
      "execution_count": null,
      "metadata": {
        "id": "TXHiNOPyStQh"
      },
      "outputs": [],
      "source": [
        "def ner_inference(test_sentence):\n",
        "  \n",
        "\n",
        "  tokenized_sentence = np.array([tokenizer.encode(test_sentence, max_length=max_len, truncation=True, padding='max_length')])\n",
        "  tokenized_mask = np.array([[int(x!=1) for x in tokenized_sentence[0].tolist()]])\n",
        "  ans = nr_model.predict([tokenized_sentence, tokenized_mask])\n",
        "  ans = np.argmax(ans, axis=2)\n",
        "\n",
        "  tokens = tokenizer.convert_ids_to_tokens(tokenized_sentence[0])\n",
        "  new_tokens, new_labels = [], []\n",
        "  for token, label_idx in zip(tokens, ans[0]):\n",
        "    if (token.startswith(\"##\")):\n",
        "      new_labels.append(index_to_ner[label_idx])\n",
        "      new_tokens.append(token[2:])\n",
        "    elif (token=='[CLS]'):\n",
        "      pass\n",
        "    elif (token=='[SEP]'):\n",
        "      pass\n",
        "    elif (token=='[PAD]'):\n",
        "      pass\n",
        "    elif (token != '[CLS]' or token != '[SEP]'):\n",
        "      new_tokens.append(token)\n",
        "      new_labels.append(index_to_ner[label_idx])\n",
        "\n",
        "  for token, label in zip(new_tokens, new_labels):\n",
        "      print(\"{}\\t{}\".format(label, token))\n",
        "     "
      ]
    },
    {
      "cell_type": "markdown",
      "metadata": {
        "id": "0rQhWG-jS3df"
      },
      "source": [
        "# Bert + Bilstm"
      ]
    },
    {
      "cell_type": "code",
      "execution_count": null,
      "metadata": {
        "id": "WwrsyHqo_6Mg"
      },
      "outputs": [],
      "source": [
        "# 5차 시도\n",
        "# bert + bilstm\n",
        "SEQ_LEN = max_len\n",
        "input_length = max_len\n",
        "hidden_size = 100\n",
        "output_size = len(label_dict)\n",
        "learning_rate = 0.001\n",
        "\n",
        "def create_model():\n",
        "  model = TFBertModel.from_pretrained(\"klue/bert-base\", from_pt=True, num_labels=len(label_dict), output_attentions = False,\n",
        "    output_hidden_states = False)\n",
        "\n",
        "  token_inputs = tf.keras.layers.Input((SEQ_LEN,), dtype=tf.int32, name='input_word_ids') # 토큰 인풋\n",
        "  mask_inputs = tf.keras.layers.Input((SEQ_LEN,), dtype=tf.int32, name='input_masks') # 마스크 인풋\n",
        "\n",
        "  bert_outputs = model([token_inputs, mask_inputs])\n",
        "  bert_outputs = bert_outputs[0] # shape : (Batch_size, max_len, 30(개체의 총 개수))\n",
        "  nr = tf.keras.layers.Dense(30, activation='softmax')(bert_outputs) # shape : (Batch_size, max_len, 30)\n",
        "\n",
        "  bilstm_layer = Bidirectional(LSTM(hidden_size, return_sequences=True))\n",
        "  bilstm_layer_out = bilstm_layer(nr)\n",
        "\n",
        "  #crf = CRF(dtype=tf.float32, units=output_size)\n",
        "  #crf_out = crf(bilstm_layer_out)\n",
        "  \n",
        "  nr_model_b = tf.keras.Model([token_inputs, mask_inputs], bilstm_layer_out)\n",
        "  \n",
        "  nr_model_b.compile(optimizer=tf.keras.optimizers.Adam(lr=0.0002), loss=tf.keras.losses.SparseCategoricalCrossentropy(from_logits=False),\n",
        "      metrics=['sparse_categorical_accuracy'])\n",
        "  nr_model_b.summary()\n",
        "  return nr_model_b"
      ]
    },
    {
      "cell_type": "code",
      "execution_count": null,
      "metadata": {
        "id": "GV9INbcwQt7_",
        "colab": {
          "base_uri": "https://localhost:8080/"
        },
        "outputId": "ecc32984-6880-41ea-b2fa-52bb3e9adbbf"
      },
      "outputs": [
        {
          "output_type": "stream",
          "name": "stdout",
          "text": [
            "Model: \"model_1\"\n",
            "__________________________________________________________________________________________________\n",
            " Layer (type)                   Output Shape         Param #     Connected to                     \n",
            "==================================================================================================\n",
            " input_word_ids (InputLayer)    [(None, 102)]        0           []                               \n",
            "                                                                                                  \n",
            " input_masks (InputLayer)       [(None, 102)]        0           []                               \n",
            "                                                                                                  \n",
            " tf_bert_model_2 (TFBertModel)  TFBaseModelOutputWi  110617344   ['input_word_ids[0][0]',         \n",
            "                                thPoolingAndCrossAt               'input_masks[0][0]']            \n",
            "                                tentions(last_hidde                                               \n",
            "                                n_state=(None, 102,                                               \n",
            "                                 768),                                                            \n",
            "                                 pooler_output=(Non                                               \n",
            "                                e, 768),                                                          \n",
            "                                 past_key_values=No                                               \n",
            "                                ne, hidden_states=N                                               \n",
            "                                one, attentions=Non                                               \n",
            "                                e, cross_attentions                                               \n",
            "                                =None)                                                            \n",
            "                                                                                                  \n",
            " dense_1 (Dense)                (None, 102, 30)      23070       ['tf_bert_model_2[0][0]']        \n",
            "                                                                                                  \n",
            " bidirectional (Bidirectional)  (None, 102, 200)     104800      ['dense_1[0][0]']                \n",
            "                                                                                                  \n",
            "==================================================================================================\n",
            "Total params: 110,745,214\n",
            "Trainable params: 110,745,214\n",
            "Non-trainable params: 0\n",
            "__________________________________________________________________________________________________\n",
            "Epoch 1/3\n"
          ]
        },
        {
          "output_type": "stream",
          "name": "stderr",
          "text": [
            "WARNING:tensorflow:Gradients do not exist for variables ['tf_bert_model_2/bert/pooler/dense/kernel:0', 'tf_bert_model_2/bert/pooler/dense/bias:0'] when minimizing the loss. If you're using `model.compile()`, did you forget to provide a `loss`argument?\n",
            "WARNING:tensorflow:Gradients do not exist for variables ['tf_bert_model_2/bert/pooler/dense/kernel:0', 'tf_bert_model_2/bert/pooler/dense/bias:0'] when minimizing the loss. If you're using `model.compile()`, did you forget to provide a `loss`argument?\n"
          ]
        },
        {
          "output_type": "stream",
          "name": "stdout",
          "text": [
            "11/81 [===>..........................] - ETA: 28:56 - loss: 4.3993 - sparse_categorical_accuracy: 0.5339"
          ]
        }
      ],
      "source": [
        "# GPU 사용하여 훈련\n",
        "bs = 32\n",
        "nr_model_b = create_model()\n",
        "nr_model_b.fit([tr_inputs, tr_masks], tr_tags, validation_data=([val_inputs, val_masks], val_tags), epochs=3, shuffle=False, batch_size=bs)"
      ]
    },
    {
      "cell_type": "code",
      "execution_count": null,
      "metadata": {
        "id": "PIFOj--v6h6y"
      },
      "outputs": [],
      "source": [
        "# # TPU로 훈련\n",
        "# bs = 32\n",
        "# strategy = tf.distribute.experimental.TPUStrategy(resolver)\n",
        "# # TPU를 활용하기 위해 context로 묶어주기\n",
        "# with strategy.scope():\n",
        "#   nr_model = create_model()\n",
        "#   nr_model.fit([tr_inputs, tr_masks], tr_tags, validation_data=([val_inputs, val_masks], val_tags), epochs=10, shuffle=False, batch_size=bs)"
      ]
    },
    {
      "cell_type": "code",
      "execution_count": null,
      "metadata": {
        "colab": {
          "base_uri": "https://localhost:8080/"
        },
        "id": "yZicc7IU6tUR",
        "outputId": "2f47fe52-8557-490f-beb8-52c02d0f71b5"
      },
      "outputs": [
        {
          "name": "stdout",
          "output_type": "stream",
          "text": [
            "4/4 [==============================] - 12s 3s/step\n"
          ]
        }
      ],
      "source": [
        "from sklearn.metrics import precision_score, recall_score, f1_score, classification_report\n",
        "\n",
        "y_predicted = nr_model.predict([test_inputs, test_masks])"
      ]
    },
    {
      "cell_type": "code",
      "execution_count": null,
      "metadata": {
        "id": "t8OkldW36vKz"
      },
      "outputs": [],
      "source": [
        "f_label = [i for i, j in label_dict.items()]\n",
        "test_tags_l = [index_to_ner[x] for x in np.ravel(test_tags).astype(int).tolist() if x < 26]\n",
        "y_predicted_l = [index_to_ner[x] for x in np.ravel(np.argmax(y_predicted, axis=2)).astype(int).tolist() if x < 26]\n",
        "f_label.remove(\"[PAD]\")"
      ]
    },
    {
      "cell_type": "code",
      "execution_count": null,
      "metadata": {
        "colab": {
          "base_uri": "https://localhost:8080/"
        },
        "id": "iEEP36io6v7X",
        "outputId": "3afdaee8-a195-4bac-c216-32246e6d0394"
      },
      "outputs": [
        {
          "name": "stdout",
          "output_type": "stream",
          "text": [
            "              precision    recall  f1-score   support\n",
            "\n",
            "           -       0.98      0.93      0.95      3352\n",
            "         nan       0.00      0.00      0.00         0\n",
            "        B_SC       0.00      0.00      0.00         0\n",
            "        I_SC       0.00      0.00      0.00         0\n",
            "        B_CS       0.37      0.73      0.49        59\n",
            "        I_CS       0.37      0.72      0.49        50\n",
            "        B_AW       0.33      0.40      0.36        15\n",
            "        I_AW       0.48      0.50      0.49        22\n",
            "        B_SS       0.46      0.28      0.35        60\n",
            "        I_SS       0.22      0.55      0.31        78\n",
            "        B_DB       0.00      0.00      0.00         0\n",
            "        B_PL       1.00      0.25      0.40         8\n",
            "        I_PL       0.00      0.00      0.00         0\n",
            "         I_S       0.00      0.00      0.00         0\n",
            "        B_DT       0.80      0.57      0.67        21\n",
            "        I_DT       0.80      0.50      0.62         8\n",
            "        B_SW       0.00      0.00      0.00         2\n",
            "        B_NT       0.00      0.00      0.00         3\n",
            "        I_NT       0.00      0.00      0.00         0\n",
            "        B_HW       0.00      0.00      0.00         7\n",
            "        I_HW       0.00      0.00      0.00         4\n",
            "        I_SW       0.00      0.00      0.00         3\n",
            "        B_OS       0.00      0.00      0.00         0\n",
            "        I_OS       0.00      0.00      0.00         0\n",
            "        I_DB       0.00      0.00      0.00         0\n",
            "\n",
            "   micro avg       0.89      0.89      0.89      3692\n",
            "   macro avg       0.23      0.22      0.21      3692\n",
            "weighted avg       0.92      0.89      0.90      3692\n",
            "\n"
          ]
        },
        {
          "name": "stderr",
          "output_type": "stream",
          "text": [
            "/usr/local/lib/python3.8/dist-packages/sklearn/metrics/_classification.py:1318: UndefinedMetricWarning: Precision and F-score are ill-defined and being set to 0.0 in labels with no predicted samples. Use `zero_division` parameter to control this behavior.\n",
            "  _warn_prf(average, modifier, msg_start, len(result))\n",
            "/usr/local/lib/python3.8/dist-packages/sklearn/metrics/_classification.py:1318: UndefinedMetricWarning: Recall and F-score are ill-defined and being set to 0.0 in labels with no true samples. Use `zero_division` parameter to control this behavior.\n",
            "  _warn_prf(average, modifier, msg_start, len(result))\n",
            "/usr/local/lib/python3.8/dist-packages/sklearn/metrics/_classification.py:1318: UndefinedMetricWarning: Precision and F-score are ill-defined and being set to 0.0 in labels with no predicted samples. Use `zero_division` parameter to control this behavior.\n",
            "  _warn_prf(average, modifier, msg_start, len(result))\n",
            "/usr/local/lib/python3.8/dist-packages/sklearn/metrics/_classification.py:1318: UndefinedMetricWarning: Recall and F-score are ill-defined and being set to 0.0 in labels with no true samples. Use `zero_division` parameter to control this behavior.\n",
            "  _warn_prf(average, modifier, msg_start, len(result))\n",
            "/usr/local/lib/python3.8/dist-packages/sklearn/metrics/_classification.py:1318: UndefinedMetricWarning: Precision and F-score are ill-defined and being set to 0.0 in labels with no predicted samples. Use `zero_division` parameter to control this behavior.\n",
            "  _warn_prf(average, modifier, msg_start, len(result))\n",
            "/usr/local/lib/python3.8/dist-packages/sklearn/metrics/_classification.py:1318: UndefinedMetricWarning: Recall and F-score are ill-defined and being set to 0.0 in labels with no true samples. Use `zero_division` parameter to control this behavior.\n",
            "  _warn_prf(average, modifier, msg_start, len(result))\n"
          ]
        }
      ],
      "source": [
        "# f1 score 측정\n",
        "# macro avg: 전체 정답을 기준으로 f1 score 측정\n",
        "# macro avg: 각 개체별 f1 score 가중평균\n",
        "print(classification_report(val_tags_l, y_predicted_l, labels=f_label))"
      ]
    },
    {
      "cell_type": "code",
      "execution_count": null,
      "metadata": {
        "id": "2QnvCnuT8Irk"
      },
      "outputs": [],
      "source": [
        "def ner_inference(test_sentence):\n",
        "  \n",
        "\n",
        "  tokenized_sentence = np.array([tokenizer.encode(test_sentence, max_length=max_len, truncation=True, padding='max_length')])\n",
        "  tokenized_mask = np.array([[int(x!=1) for x in tokenized_sentence[0].tolist()]])\n",
        "  ans = nr_model.predict([tokenized_sentence, tokenized_mask])\n",
        "  ans = np.argmax(ans, axis=2)\n",
        "\n",
        "  tokens = tokenizer.convert_ids_to_tokens(tokenized_sentence[0])\n",
        "  new_tokens, new_labels = [], []\n",
        "  for token, label_idx in zip(tokens, ans[0]):\n",
        "    if (token.startswith(\"##\")):\n",
        "      new_labels.append(index_to_ner[label_idx])\n",
        "      new_tokens.append(token[2:])\n",
        "    elif (token=='[CLS]'):\n",
        "      pass\n",
        "    elif (token=='[SEP]'):\n",
        "      pass\n",
        "    elif (token=='[PAD]'):\n",
        "      pass\n",
        "    elif (token != '[CLS]' or token != '[SEP]'):\n",
        "      new_tokens.append(token)\n",
        "      new_labels.append(index_to_ner[label_idx])\n",
        "\n",
        "  for token, label in zip(new_tokens, new_labels):\n",
        "      print(\"{}\\t{}\".format(label, token))\n",
        "     "
      ]
    }
  ],
  "metadata": {
    "colab": {
      "collapsed_sections": [
        "WnaInF0Et0Qc",
        "IZiMJl2ByUGH"
      ],
      "machine_shape": "hm",
      "provenance": []
    },
    "gpuClass": "premium",
    "kernelspec": {
      "display_name": "Python 3",
      "name": "python3"
    },
    "language_info": {
      "name": "python"
    },
    "widgets": {
      "application/vnd.jupyter.widget-state+json": {
        "ea87dbe6c4a540579d0a153eb446b5a1": {
          "model_module": "@jupyter-widgets/controls",
          "model_name": "HBoxModel",
          "model_module_version": "1.5.0",
          "state": {
            "_dom_classes": [],
            "_model_module": "@jupyter-widgets/controls",
            "_model_module_version": "1.5.0",
            "_model_name": "HBoxModel",
            "_view_count": null,
            "_view_module": "@jupyter-widgets/controls",
            "_view_module_version": "1.5.0",
            "_view_name": "HBoxView",
            "box_style": "",
            "children": [
              "IPY_MODEL_b3a229325d8d41fc815bf6a8509dd8ed",
              "IPY_MODEL_e2ec7892be47426281c9a1f4196462e2",
              "IPY_MODEL_fd1b690b210d44b890dca1494ff2b7c3"
            ],
            "layout": "IPY_MODEL_337891c57739453abc69eca576794c3d"
          }
        },
        "b3a229325d8d41fc815bf6a8509dd8ed": {
          "model_module": "@jupyter-widgets/controls",
          "model_name": "HTMLModel",
          "model_module_version": "1.5.0",
          "state": {
            "_dom_classes": [],
            "_model_module": "@jupyter-widgets/controls",
            "_model_module_version": "1.5.0",
            "_model_name": "HTMLModel",
            "_view_count": null,
            "_view_module": "@jupyter-widgets/controls",
            "_view_module_version": "1.5.0",
            "_view_name": "HTMLView",
            "description": "",
            "description_tooltip": null,
            "layout": "IPY_MODEL_1aace978ae04450b8dbdd77a5b5d98ab",
            "placeholder": "​",
            "style": "IPY_MODEL_44bb3f40c2d742a5bae051620a34f847",
            "value": "Downloading: 100%"
          }
        },
        "e2ec7892be47426281c9a1f4196462e2": {
          "model_module": "@jupyter-widgets/controls",
          "model_name": "FloatProgressModel",
          "model_module_version": "1.5.0",
          "state": {
            "_dom_classes": [],
            "_model_module": "@jupyter-widgets/controls",
            "_model_module_version": "1.5.0",
            "_model_name": "FloatProgressModel",
            "_view_count": null,
            "_view_module": "@jupyter-widgets/controls",
            "_view_module_version": "1.5.0",
            "_view_name": "ProgressView",
            "bar_style": "success",
            "description": "",
            "description_tooltip": null,
            "layout": "IPY_MODEL_ce6e521cf58b40889b321f06241a8615",
            "max": 248477,
            "min": 0,
            "orientation": "horizontal",
            "style": "IPY_MODEL_0efe382b5ad64fbaac7b6ddd229af828",
            "value": 248477
          }
        },
        "fd1b690b210d44b890dca1494ff2b7c3": {
          "model_module": "@jupyter-widgets/controls",
          "model_name": "HTMLModel",
          "model_module_version": "1.5.0",
          "state": {
            "_dom_classes": [],
            "_model_module": "@jupyter-widgets/controls",
            "_model_module_version": "1.5.0",
            "_model_name": "HTMLModel",
            "_view_count": null,
            "_view_module": "@jupyter-widgets/controls",
            "_view_module_version": "1.5.0",
            "_view_name": "HTMLView",
            "description": "",
            "description_tooltip": null,
            "layout": "IPY_MODEL_dfbf9e813a25432d9a298641247d889f",
            "placeholder": "​",
            "style": "IPY_MODEL_faafe344a3d44a8094c54de724b94688",
            "value": " 248k/248k [00:00&lt;00:00, 1.73MB/s]"
          }
        },
        "337891c57739453abc69eca576794c3d": {
          "model_module": "@jupyter-widgets/base",
          "model_name": "LayoutModel",
          "model_module_version": "1.2.0",
          "state": {
            "_model_module": "@jupyter-widgets/base",
            "_model_module_version": "1.2.0",
            "_model_name": "LayoutModel",
            "_view_count": null,
            "_view_module": "@jupyter-widgets/base",
            "_view_module_version": "1.2.0",
            "_view_name": "LayoutView",
            "align_content": null,
            "align_items": null,
            "align_self": null,
            "border": null,
            "bottom": null,
            "display": null,
            "flex": null,
            "flex_flow": null,
            "grid_area": null,
            "grid_auto_columns": null,
            "grid_auto_flow": null,
            "grid_auto_rows": null,
            "grid_column": null,
            "grid_gap": null,
            "grid_row": null,
            "grid_template_areas": null,
            "grid_template_columns": null,
            "grid_template_rows": null,
            "height": null,
            "justify_content": null,
            "justify_items": null,
            "left": null,
            "margin": null,
            "max_height": null,
            "max_width": null,
            "min_height": null,
            "min_width": null,
            "object_fit": null,
            "object_position": null,
            "order": null,
            "overflow": null,
            "overflow_x": null,
            "overflow_y": null,
            "padding": null,
            "right": null,
            "top": null,
            "visibility": null,
            "width": null
          }
        },
        "1aace978ae04450b8dbdd77a5b5d98ab": {
          "model_module": "@jupyter-widgets/base",
          "model_name": "LayoutModel",
          "model_module_version": "1.2.0",
          "state": {
            "_model_module": "@jupyter-widgets/base",
            "_model_module_version": "1.2.0",
            "_model_name": "LayoutModel",
            "_view_count": null,
            "_view_module": "@jupyter-widgets/base",
            "_view_module_version": "1.2.0",
            "_view_name": "LayoutView",
            "align_content": null,
            "align_items": null,
            "align_self": null,
            "border": null,
            "bottom": null,
            "display": null,
            "flex": null,
            "flex_flow": null,
            "grid_area": null,
            "grid_auto_columns": null,
            "grid_auto_flow": null,
            "grid_auto_rows": null,
            "grid_column": null,
            "grid_gap": null,
            "grid_row": null,
            "grid_template_areas": null,
            "grid_template_columns": null,
            "grid_template_rows": null,
            "height": null,
            "justify_content": null,
            "justify_items": null,
            "left": null,
            "margin": null,
            "max_height": null,
            "max_width": null,
            "min_height": null,
            "min_width": null,
            "object_fit": null,
            "object_position": null,
            "order": null,
            "overflow": null,
            "overflow_x": null,
            "overflow_y": null,
            "padding": null,
            "right": null,
            "top": null,
            "visibility": null,
            "width": null
          }
        },
        "44bb3f40c2d742a5bae051620a34f847": {
          "model_module": "@jupyter-widgets/controls",
          "model_name": "DescriptionStyleModel",
          "model_module_version": "1.5.0",
          "state": {
            "_model_module": "@jupyter-widgets/controls",
            "_model_module_version": "1.5.0",
            "_model_name": "DescriptionStyleModel",
            "_view_count": null,
            "_view_module": "@jupyter-widgets/base",
            "_view_module_version": "1.2.0",
            "_view_name": "StyleView",
            "description_width": ""
          }
        },
        "ce6e521cf58b40889b321f06241a8615": {
          "model_module": "@jupyter-widgets/base",
          "model_name": "LayoutModel",
          "model_module_version": "1.2.0",
          "state": {
            "_model_module": "@jupyter-widgets/base",
            "_model_module_version": "1.2.0",
            "_model_name": "LayoutModel",
            "_view_count": null,
            "_view_module": "@jupyter-widgets/base",
            "_view_module_version": "1.2.0",
            "_view_name": "LayoutView",
            "align_content": null,
            "align_items": null,
            "align_self": null,
            "border": null,
            "bottom": null,
            "display": null,
            "flex": null,
            "flex_flow": null,
            "grid_area": null,
            "grid_auto_columns": null,
            "grid_auto_flow": null,
            "grid_auto_rows": null,
            "grid_column": null,
            "grid_gap": null,
            "grid_row": null,
            "grid_template_areas": null,
            "grid_template_columns": null,
            "grid_template_rows": null,
            "height": null,
            "justify_content": null,
            "justify_items": null,
            "left": null,
            "margin": null,
            "max_height": null,
            "max_width": null,
            "min_height": null,
            "min_width": null,
            "object_fit": null,
            "object_position": null,
            "order": null,
            "overflow": null,
            "overflow_x": null,
            "overflow_y": null,
            "padding": null,
            "right": null,
            "top": null,
            "visibility": null,
            "width": null
          }
        },
        "0efe382b5ad64fbaac7b6ddd229af828": {
          "model_module": "@jupyter-widgets/controls",
          "model_name": "ProgressStyleModel",
          "model_module_version": "1.5.0",
          "state": {
            "_model_module": "@jupyter-widgets/controls",
            "_model_module_version": "1.5.0",
            "_model_name": "ProgressStyleModel",
            "_view_count": null,
            "_view_module": "@jupyter-widgets/base",
            "_view_module_version": "1.2.0",
            "_view_name": "StyleView",
            "bar_color": null,
            "description_width": ""
          }
        },
        "dfbf9e813a25432d9a298641247d889f": {
          "model_module": "@jupyter-widgets/base",
          "model_name": "LayoutModel",
          "model_module_version": "1.2.0",
          "state": {
            "_model_module": "@jupyter-widgets/base",
            "_model_module_version": "1.2.0",
            "_model_name": "LayoutModel",
            "_view_count": null,
            "_view_module": "@jupyter-widgets/base",
            "_view_module_version": "1.2.0",
            "_view_name": "LayoutView",
            "align_content": null,
            "align_items": null,
            "align_self": null,
            "border": null,
            "bottom": null,
            "display": null,
            "flex": null,
            "flex_flow": null,
            "grid_area": null,
            "grid_auto_columns": null,
            "grid_auto_flow": null,
            "grid_auto_rows": null,
            "grid_column": null,
            "grid_gap": null,
            "grid_row": null,
            "grid_template_areas": null,
            "grid_template_columns": null,
            "grid_template_rows": null,
            "height": null,
            "justify_content": null,
            "justify_items": null,
            "left": null,
            "margin": null,
            "max_height": null,
            "max_width": null,
            "min_height": null,
            "min_width": null,
            "object_fit": null,
            "object_position": null,
            "order": null,
            "overflow": null,
            "overflow_x": null,
            "overflow_y": null,
            "padding": null,
            "right": null,
            "top": null,
            "visibility": null,
            "width": null
          }
        },
        "faafe344a3d44a8094c54de724b94688": {
          "model_module": "@jupyter-widgets/controls",
          "model_name": "DescriptionStyleModel",
          "model_module_version": "1.5.0",
          "state": {
            "_model_module": "@jupyter-widgets/controls",
            "_model_module_version": "1.5.0",
            "_model_name": "DescriptionStyleModel",
            "_view_count": null,
            "_view_module": "@jupyter-widgets/base",
            "_view_module_version": "1.2.0",
            "_view_name": "StyleView",
            "description_width": ""
          }
        },
        "15469faa2249462ca5f4e55eb729aa9c": {
          "model_module": "@jupyter-widgets/controls",
          "model_name": "HBoxModel",
          "model_module_version": "1.5.0",
          "state": {
            "_dom_classes": [],
            "_model_module": "@jupyter-widgets/controls",
            "_model_module_version": "1.5.0",
            "_model_name": "HBoxModel",
            "_view_count": null,
            "_view_module": "@jupyter-widgets/controls",
            "_view_module_version": "1.5.0",
            "_view_name": "HBoxView",
            "box_style": "",
            "children": [
              "IPY_MODEL_c086dad0bdfd432d87485e119f55afb2",
              "IPY_MODEL_f6c57b6ce5c943fc88fa341a696cede6",
              "IPY_MODEL_4945e01d6025485fbc5be34b8443f959"
            ],
            "layout": "IPY_MODEL_3152f96142244f5392f18388a93dd6c5"
          }
        },
        "c086dad0bdfd432d87485e119f55afb2": {
          "model_module": "@jupyter-widgets/controls",
          "model_name": "HTMLModel",
          "model_module_version": "1.5.0",
          "state": {
            "_dom_classes": [],
            "_model_module": "@jupyter-widgets/controls",
            "_model_module_version": "1.5.0",
            "_model_name": "HTMLModel",
            "_view_count": null,
            "_view_module": "@jupyter-widgets/controls",
            "_view_module_version": "1.5.0",
            "_view_name": "HTMLView",
            "description": "",
            "description_tooltip": null,
            "layout": "IPY_MODEL_110aab27aa534151ad66be46a1f36f37",
            "placeholder": "​",
            "style": "IPY_MODEL_0f34de3f321c463f9d082f412b319cbd",
            "value": "Downloading: 100%"
          }
        },
        "f6c57b6ce5c943fc88fa341a696cede6": {
          "model_module": "@jupyter-widgets/controls",
          "model_name": "FloatProgressModel",
          "model_module_version": "1.5.0",
          "state": {
            "_dom_classes": [],
            "_model_module": "@jupyter-widgets/controls",
            "_model_module_version": "1.5.0",
            "_model_name": "FloatProgressModel",
            "_view_count": null,
            "_view_module": "@jupyter-widgets/controls",
            "_view_module_version": "1.5.0",
            "_view_name": "ProgressView",
            "bar_style": "success",
            "description": "",
            "description_tooltip": null,
            "layout": "IPY_MODEL_6a99143422c54472a18b8b94b977e078",
            "max": 125,
            "min": 0,
            "orientation": "horizontal",
            "style": "IPY_MODEL_e4b36d632a32479094b76be929cf7dc2",
            "value": 125
          }
        },
        "4945e01d6025485fbc5be34b8443f959": {
          "model_module": "@jupyter-widgets/controls",
          "model_name": "HTMLModel",
          "model_module_version": "1.5.0",
          "state": {
            "_dom_classes": [],
            "_model_module": "@jupyter-widgets/controls",
            "_model_module_version": "1.5.0",
            "_model_name": "HTMLModel",
            "_view_count": null,
            "_view_module": "@jupyter-widgets/controls",
            "_view_module_version": "1.5.0",
            "_view_name": "HTMLView",
            "description": "",
            "description_tooltip": null,
            "layout": "IPY_MODEL_6047a97e45464793b2641ddb0a80ac07",
            "placeholder": "​",
            "style": "IPY_MODEL_c482eb31617d4157a0232c6c1b2df257",
            "value": " 125/125 [00:00&lt;00:00, 5.26kB/s]"
          }
        },
        "3152f96142244f5392f18388a93dd6c5": {
          "model_module": "@jupyter-widgets/base",
          "model_name": "LayoutModel",
          "model_module_version": "1.2.0",
          "state": {
            "_model_module": "@jupyter-widgets/base",
            "_model_module_version": "1.2.0",
            "_model_name": "LayoutModel",
            "_view_count": null,
            "_view_module": "@jupyter-widgets/base",
            "_view_module_version": "1.2.0",
            "_view_name": "LayoutView",
            "align_content": null,
            "align_items": null,
            "align_self": null,
            "border": null,
            "bottom": null,
            "display": null,
            "flex": null,
            "flex_flow": null,
            "grid_area": null,
            "grid_auto_columns": null,
            "grid_auto_flow": null,
            "grid_auto_rows": null,
            "grid_column": null,
            "grid_gap": null,
            "grid_row": null,
            "grid_template_areas": null,
            "grid_template_columns": null,
            "grid_template_rows": null,
            "height": null,
            "justify_content": null,
            "justify_items": null,
            "left": null,
            "margin": null,
            "max_height": null,
            "max_width": null,
            "min_height": null,
            "min_width": null,
            "object_fit": null,
            "object_position": null,
            "order": null,
            "overflow": null,
            "overflow_x": null,
            "overflow_y": null,
            "padding": null,
            "right": null,
            "top": null,
            "visibility": null,
            "width": null
          }
        },
        "110aab27aa534151ad66be46a1f36f37": {
          "model_module": "@jupyter-widgets/base",
          "model_name": "LayoutModel",
          "model_module_version": "1.2.0",
          "state": {
            "_model_module": "@jupyter-widgets/base",
            "_model_module_version": "1.2.0",
            "_model_name": "LayoutModel",
            "_view_count": null,
            "_view_module": "@jupyter-widgets/base",
            "_view_module_version": "1.2.0",
            "_view_name": "LayoutView",
            "align_content": null,
            "align_items": null,
            "align_self": null,
            "border": null,
            "bottom": null,
            "display": null,
            "flex": null,
            "flex_flow": null,
            "grid_area": null,
            "grid_auto_columns": null,
            "grid_auto_flow": null,
            "grid_auto_rows": null,
            "grid_column": null,
            "grid_gap": null,
            "grid_row": null,
            "grid_template_areas": null,
            "grid_template_columns": null,
            "grid_template_rows": null,
            "height": null,
            "justify_content": null,
            "justify_items": null,
            "left": null,
            "margin": null,
            "max_height": null,
            "max_width": null,
            "min_height": null,
            "min_width": null,
            "object_fit": null,
            "object_position": null,
            "order": null,
            "overflow": null,
            "overflow_x": null,
            "overflow_y": null,
            "padding": null,
            "right": null,
            "top": null,
            "visibility": null,
            "width": null
          }
        },
        "0f34de3f321c463f9d082f412b319cbd": {
          "model_module": "@jupyter-widgets/controls",
          "model_name": "DescriptionStyleModel",
          "model_module_version": "1.5.0",
          "state": {
            "_model_module": "@jupyter-widgets/controls",
            "_model_module_version": "1.5.0",
            "_model_name": "DescriptionStyleModel",
            "_view_count": null,
            "_view_module": "@jupyter-widgets/base",
            "_view_module_version": "1.2.0",
            "_view_name": "StyleView",
            "description_width": ""
          }
        },
        "6a99143422c54472a18b8b94b977e078": {
          "model_module": "@jupyter-widgets/base",
          "model_name": "LayoutModel",
          "model_module_version": "1.2.0",
          "state": {
            "_model_module": "@jupyter-widgets/base",
            "_model_module_version": "1.2.0",
            "_model_name": "LayoutModel",
            "_view_count": null,
            "_view_module": "@jupyter-widgets/base",
            "_view_module_version": "1.2.0",
            "_view_name": "LayoutView",
            "align_content": null,
            "align_items": null,
            "align_self": null,
            "border": null,
            "bottom": null,
            "display": null,
            "flex": null,
            "flex_flow": null,
            "grid_area": null,
            "grid_auto_columns": null,
            "grid_auto_flow": null,
            "grid_auto_rows": null,
            "grid_column": null,
            "grid_gap": null,
            "grid_row": null,
            "grid_template_areas": null,
            "grid_template_columns": null,
            "grid_template_rows": null,
            "height": null,
            "justify_content": null,
            "justify_items": null,
            "left": null,
            "margin": null,
            "max_height": null,
            "max_width": null,
            "min_height": null,
            "min_width": null,
            "object_fit": null,
            "object_position": null,
            "order": null,
            "overflow": null,
            "overflow_x": null,
            "overflow_y": null,
            "padding": null,
            "right": null,
            "top": null,
            "visibility": null,
            "width": null
          }
        },
        "e4b36d632a32479094b76be929cf7dc2": {
          "model_module": "@jupyter-widgets/controls",
          "model_name": "ProgressStyleModel",
          "model_module_version": "1.5.0",
          "state": {
            "_model_module": "@jupyter-widgets/controls",
            "_model_module_version": "1.5.0",
            "_model_name": "ProgressStyleModel",
            "_view_count": null,
            "_view_module": "@jupyter-widgets/base",
            "_view_module_version": "1.2.0",
            "_view_name": "StyleView",
            "bar_color": null,
            "description_width": ""
          }
        },
        "6047a97e45464793b2641ddb0a80ac07": {
          "model_module": "@jupyter-widgets/base",
          "model_name": "LayoutModel",
          "model_module_version": "1.2.0",
          "state": {
            "_model_module": "@jupyter-widgets/base",
            "_model_module_version": "1.2.0",
            "_model_name": "LayoutModel",
            "_view_count": null,
            "_view_module": "@jupyter-widgets/base",
            "_view_module_version": "1.2.0",
            "_view_name": "LayoutView",
            "align_content": null,
            "align_items": null,
            "align_self": null,
            "border": null,
            "bottom": null,
            "display": null,
            "flex": null,
            "flex_flow": null,
            "grid_area": null,
            "grid_auto_columns": null,
            "grid_auto_flow": null,
            "grid_auto_rows": null,
            "grid_column": null,
            "grid_gap": null,
            "grid_row": null,
            "grid_template_areas": null,
            "grid_template_columns": null,
            "grid_template_rows": null,
            "height": null,
            "justify_content": null,
            "justify_items": null,
            "left": null,
            "margin": null,
            "max_height": null,
            "max_width": null,
            "min_height": null,
            "min_width": null,
            "object_fit": null,
            "object_position": null,
            "order": null,
            "overflow": null,
            "overflow_x": null,
            "overflow_y": null,
            "padding": null,
            "right": null,
            "top": null,
            "visibility": null,
            "width": null
          }
        },
        "c482eb31617d4157a0232c6c1b2df257": {
          "model_module": "@jupyter-widgets/controls",
          "model_name": "DescriptionStyleModel",
          "model_module_version": "1.5.0",
          "state": {
            "_model_module": "@jupyter-widgets/controls",
            "_model_module_version": "1.5.0",
            "_model_name": "DescriptionStyleModel",
            "_view_count": null,
            "_view_module": "@jupyter-widgets/base",
            "_view_module_version": "1.2.0",
            "_view_name": "StyleView",
            "description_width": ""
          }
        },
        "9e94e9e05a554faa8771e2921acc72a2": {
          "model_module": "@jupyter-widgets/controls",
          "model_name": "HBoxModel",
          "model_module_version": "1.5.0",
          "state": {
            "_dom_classes": [],
            "_model_module": "@jupyter-widgets/controls",
            "_model_module_version": "1.5.0",
            "_model_name": "HBoxModel",
            "_view_count": null,
            "_view_module": "@jupyter-widgets/controls",
            "_view_module_version": "1.5.0",
            "_view_name": "HBoxView",
            "box_style": "",
            "children": [
              "IPY_MODEL_9c05ab6efaa94264939126d21c0d12f9",
              "IPY_MODEL_ac4fecb2c71746888c2e9f37fdbc4de7",
              "IPY_MODEL_a2b7628a31aa4a63aa2a3b7040cd22ee"
            ],
            "layout": "IPY_MODEL_36954ee385cc4216ad98bf902c9fe351"
          }
        },
        "9c05ab6efaa94264939126d21c0d12f9": {
          "model_module": "@jupyter-widgets/controls",
          "model_name": "HTMLModel",
          "model_module_version": "1.5.0",
          "state": {
            "_dom_classes": [],
            "_model_module": "@jupyter-widgets/controls",
            "_model_module_version": "1.5.0",
            "_model_name": "HTMLModel",
            "_view_count": null,
            "_view_module": "@jupyter-widgets/controls",
            "_view_module_version": "1.5.0",
            "_view_name": "HTMLView",
            "description": "",
            "description_tooltip": null,
            "layout": "IPY_MODEL_9328ad0198494f75b4562e40098c5d28",
            "placeholder": "​",
            "style": "IPY_MODEL_8a2993a32e904163af923e1281d145a5",
            "value": "Downloading: 100%"
          }
        },
        "ac4fecb2c71746888c2e9f37fdbc4de7": {
          "model_module": "@jupyter-widgets/controls",
          "model_name": "FloatProgressModel",
          "model_module_version": "1.5.0",
          "state": {
            "_dom_classes": [],
            "_model_module": "@jupyter-widgets/controls",
            "_model_module_version": "1.5.0",
            "_model_name": "FloatProgressModel",
            "_view_count": null,
            "_view_module": "@jupyter-widgets/controls",
            "_view_module_version": "1.5.0",
            "_view_name": "ProgressView",
            "bar_style": "success",
            "description": "",
            "description_tooltip": null,
            "layout": "IPY_MODEL_716dc38ef0d0460c8025046b8c2a6b72",
            "max": 289,
            "min": 0,
            "orientation": "horizontal",
            "style": "IPY_MODEL_629e7df535bb45e195cf5c1e17e9edec",
            "value": 289
          }
        },
        "a2b7628a31aa4a63aa2a3b7040cd22ee": {
          "model_module": "@jupyter-widgets/controls",
          "model_name": "HTMLModel",
          "model_module_version": "1.5.0",
          "state": {
            "_dom_classes": [],
            "_model_module": "@jupyter-widgets/controls",
            "_model_module_version": "1.5.0",
            "_model_name": "HTMLModel",
            "_view_count": null,
            "_view_module": "@jupyter-widgets/controls",
            "_view_module_version": "1.5.0",
            "_view_name": "HTMLView",
            "description": "",
            "description_tooltip": null,
            "layout": "IPY_MODEL_aed07a1a127842b0b2b328b5502a3bcb",
            "placeholder": "​",
            "style": "IPY_MODEL_1d95f73ab3e04e26929415a89e154412",
            "value": " 289/289 [00:00&lt;00:00, 12.2kB/s]"
          }
        },
        "36954ee385cc4216ad98bf902c9fe351": {
          "model_module": "@jupyter-widgets/base",
          "model_name": "LayoutModel",
          "model_module_version": "1.2.0",
          "state": {
            "_model_module": "@jupyter-widgets/base",
            "_model_module_version": "1.2.0",
            "_model_name": "LayoutModel",
            "_view_count": null,
            "_view_module": "@jupyter-widgets/base",
            "_view_module_version": "1.2.0",
            "_view_name": "LayoutView",
            "align_content": null,
            "align_items": null,
            "align_self": null,
            "border": null,
            "bottom": null,
            "display": null,
            "flex": null,
            "flex_flow": null,
            "grid_area": null,
            "grid_auto_columns": null,
            "grid_auto_flow": null,
            "grid_auto_rows": null,
            "grid_column": null,
            "grid_gap": null,
            "grid_row": null,
            "grid_template_areas": null,
            "grid_template_columns": null,
            "grid_template_rows": null,
            "height": null,
            "justify_content": null,
            "justify_items": null,
            "left": null,
            "margin": null,
            "max_height": null,
            "max_width": null,
            "min_height": null,
            "min_width": null,
            "object_fit": null,
            "object_position": null,
            "order": null,
            "overflow": null,
            "overflow_x": null,
            "overflow_y": null,
            "padding": null,
            "right": null,
            "top": null,
            "visibility": null,
            "width": null
          }
        },
        "9328ad0198494f75b4562e40098c5d28": {
          "model_module": "@jupyter-widgets/base",
          "model_name": "LayoutModel",
          "model_module_version": "1.2.0",
          "state": {
            "_model_module": "@jupyter-widgets/base",
            "_model_module_version": "1.2.0",
            "_model_name": "LayoutModel",
            "_view_count": null,
            "_view_module": "@jupyter-widgets/base",
            "_view_module_version": "1.2.0",
            "_view_name": "LayoutView",
            "align_content": null,
            "align_items": null,
            "align_self": null,
            "border": null,
            "bottom": null,
            "display": null,
            "flex": null,
            "flex_flow": null,
            "grid_area": null,
            "grid_auto_columns": null,
            "grid_auto_flow": null,
            "grid_auto_rows": null,
            "grid_column": null,
            "grid_gap": null,
            "grid_row": null,
            "grid_template_areas": null,
            "grid_template_columns": null,
            "grid_template_rows": null,
            "height": null,
            "justify_content": null,
            "justify_items": null,
            "left": null,
            "margin": null,
            "max_height": null,
            "max_width": null,
            "min_height": null,
            "min_width": null,
            "object_fit": null,
            "object_position": null,
            "order": null,
            "overflow": null,
            "overflow_x": null,
            "overflow_y": null,
            "padding": null,
            "right": null,
            "top": null,
            "visibility": null,
            "width": null
          }
        },
        "8a2993a32e904163af923e1281d145a5": {
          "model_module": "@jupyter-widgets/controls",
          "model_name": "DescriptionStyleModel",
          "model_module_version": "1.5.0",
          "state": {
            "_model_module": "@jupyter-widgets/controls",
            "_model_module_version": "1.5.0",
            "_model_name": "DescriptionStyleModel",
            "_view_count": null,
            "_view_module": "@jupyter-widgets/base",
            "_view_module_version": "1.2.0",
            "_view_name": "StyleView",
            "description_width": ""
          }
        },
        "716dc38ef0d0460c8025046b8c2a6b72": {
          "model_module": "@jupyter-widgets/base",
          "model_name": "LayoutModel",
          "model_module_version": "1.2.0",
          "state": {
            "_model_module": "@jupyter-widgets/base",
            "_model_module_version": "1.2.0",
            "_model_name": "LayoutModel",
            "_view_count": null,
            "_view_module": "@jupyter-widgets/base",
            "_view_module_version": "1.2.0",
            "_view_name": "LayoutView",
            "align_content": null,
            "align_items": null,
            "align_self": null,
            "border": null,
            "bottom": null,
            "display": null,
            "flex": null,
            "flex_flow": null,
            "grid_area": null,
            "grid_auto_columns": null,
            "grid_auto_flow": null,
            "grid_auto_rows": null,
            "grid_column": null,
            "grid_gap": null,
            "grid_row": null,
            "grid_template_areas": null,
            "grid_template_columns": null,
            "grid_template_rows": null,
            "height": null,
            "justify_content": null,
            "justify_items": null,
            "left": null,
            "margin": null,
            "max_height": null,
            "max_width": null,
            "min_height": null,
            "min_width": null,
            "object_fit": null,
            "object_position": null,
            "order": null,
            "overflow": null,
            "overflow_x": null,
            "overflow_y": null,
            "padding": null,
            "right": null,
            "top": null,
            "visibility": null,
            "width": null
          }
        },
        "629e7df535bb45e195cf5c1e17e9edec": {
          "model_module": "@jupyter-widgets/controls",
          "model_name": "ProgressStyleModel",
          "model_module_version": "1.5.0",
          "state": {
            "_model_module": "@jupyter-widgets/controls",
            "_model_module_version": "1.5.0",
            "_model_name": "ProgressStyleModel",
            "_view_count": null,
            "_view_module": "@jupyter-widgets/base",
            "_view_module_version": "1.2.0",
            "_view_name": "StyleView",
            "bar_color": null,
            "description_width": ""
          }
        },
        "aed07a1a127842b0b2b328b5502a3bcb": {
          "model_module": "@jupyter-widgets/base",
          "model_name": "LayoutModel",
          "model_module_version": "1.2.0",
          "state": {
            "_model_module": "@jupyter-widgets/base",
            "_model_module_version": "1.2.0",
            "_model_name": "LayoutModel",
            "_view_count": null,
            "_view_module": "@jupyter-widgets/base",
            "_view_module_version": "1.2.0",
            "_view_name": "LayoutView",
            "align_content": null,
            "align_items": null,
            "align_self": null,
            "border": null,
            "bottom": null,
            "display": null,
            "flex": null,
            "flex_flow": null,
            "grid_area": null,
            "grid_auto_columns": null,
            "grid_auto_flow": null,
            "grid_auto_rows": null,
            "grid_column": null,
            "grid_gap": null,
            "grid_row": null,
            "grid_template_areas": null,
            "grid_template_columns": null,
            "grid_template_rows": null,
            "height": null,
            "justify_content": null,
            "justify_items": null,
            "left": null,
            "margin": null,
            "max_height": null,
            "max_width": null,
            "min_height": null,
            "min_width": null,
            "object_fit": null,
            "object_position": null,
            "order": null,
            "overflow": null,
            "overflow_x": null,
            "overflow_y": null,
            "padding": null,
            "right": null,
            "top": null,
            "visibility": null,
            "width": null
          }
        },
        "1d95f73ab3e04e26929415a89e154412": {
          "model_module": "@jupyter-widgets/controls",
          "model_name": "DescriptionStyleModel",
          "model_module_version": "1.5.0",
          "state": {
            "_model_module": "@jupyter-widgets/controls",
            "_model_module_version": "1.5.0",
            "_model_name": "DescriptionStyleModel",
            "_view_count": null,
            "_view_module": "@jupyter-widgets/base",
            "_view_module_version": "1.2.0",
            "_view_name": "StyleView",
            "description_width": ""
          }
        },
        "46759139cff040e9b64896c61819d887": {
          "model_module": "@jupyter-widgets/controls",
          "model_name": "HBoxModel",
          "model_module_version": "1.5.0",
          "state": {
            "_dom_classes": [],
            "_model_module": "@jupyter-widgets/controls",
            "_model_module_version": "1.5.0",
            "_model_name": "HBoxModel",
            "_view_count": null,
            "_view_module": "@jupyter-widgets/controls",
            "_view_module_version": "1.5.0",
            "_view_name": "HBoxView",
            "box_style": "",
            "children": [
              "IPY_MODEL_4b3ee58790c94cd48c7b23dc0f4f92e4",
              "IPY_MODEL_dd84b9b4df134f2082feb81b120847b7",
              "IPY_MODEL_65376661a1b440cb901545ca820c5952"
            ],
            "layout": "IPY_MODEL_d957f763400a46038057cbcda4a0ad58"
          }
        },
        "4b3ee58790c94cd48c7b23dc0f4f92e4": {
          "model_module": "@jupyter-widgets/controls",
          "model_name": "HTMLModel",
          "model_module_version": "1.5.0",
          "state": {
            "_dom_classes": [],
            "_model_module": "@jupyter-widgets/controls",
            "_model_module_version": "1.5.0",
            "_model_name": "HTMLModel",
            "_view_count": null,
            "_view_module": "@jupyter-widgets/controls",
            "_view_module_version": "1.5.0",
            "_view_name": "HTMLView",
            "description": "",
            "description_tooltip": null,
            "layout": "IPY_MODEL_66aed840b8af4d7e894ea01789b6925a",
            "placeholder": "​",
            "style": "IPY_MODEL_8dda67aaf31e439e84674b507d532dc2",
            "value": "Downloading: 100%"
          }
        },
        "dd84b9b4df134f2082feb81b120847b7": {
          "model_module": "@jupyter-widgets/controls",
          "model_name": "FloatProgressModel",
          "model_module_version": "1.5.0",
          "state": {
            "_dom_classes": [],
            "_model_module": "@jupyter-widgets/controls",
            "_model_module_version": "1.5.0",
            "_model_name": "FloatProgressModel",
            "_view_count": null,
            "_view_module": "@jupyter-widgets/controls",
            "_view_module_version": "1.5.0",
            "_view_name": "ProgressView",
            "bar_style": "success",
            "description": "",
            "description_tooltip": null,
            "layout": "IPY_MODEL_ec85443c3f584d7791568531c65fd85d",
            "max": 425,
            "min": 0,
            "orientation": "horizontal",
            "style": "IPY_MODEL_278a55adf7414065af25a3249d0095a9",
            "value": 425
          }
        },
        "65376661a1b440cb901545ca820c5952": {
          "model_module": "@jupyter-widgets/controls",
          "model_name": "HTMLModel",
          "model_module_version": "1.5.0",
          "state": {
            "_dom_classes": [],
            "_model_module": "@jupyter-widgets/controls",
            "_model_module_version": "1.5.0",
            "_model_name": "HTMLModel",
            "_view_count": null,
            "_view_module": "@jupyter-widgets/controls",
            "_view_module_version": "1.5.0",
            "_view_name": "HTMLView",
            "description": "",
            "description_tooltip": null,
            "layout": "IPY_MODEL_fdca3d05aa3f45e295059a0b8995ee98",
            "placeholder": "​",
            "style": "IPY_MODEL_1d6a6b309b0b4a68b23ba56a910a0d3a",
            "value": " 425/425 [00:00&lt;00:00, 18.9kB/s]"
          }
        },
        "d957f763400a46038057cbcda4a0ad58": {
          "model_module": "@jupyter-widgets/base",
          "model_name": "LayoutModel",
          "model_module_version": "1.2.0",
          "state": {
            "_model_module": "@jupyter-widgets/base",
            "_model_module_version": "1.2.0",
            "_model_name": "LayoutModel",
            "_view_count": null,
            "_view_module": "@jupyter-widgets/base",
            "_view_module_version": "1.2.0",
            "_view_name": "LayoutView",
            "align_content": null,
            "align_items": null,
            "align_self": null,
            "border": null,
            "bottom": null,
            "display": null,
            "flex": null,
            "flex_flow": null,
            "grid_area": null,
            "grid_auto_columns": null,
            "grid_auto_flow": null,
            "grid_auto_rows": null,
            "grid_column": null,
            "grid_gap": null,
            "grid_row": null,
            "grid_template_areas": null,
            "grid_template_columns": null,
            "grid_template_rows": null,
            "height": null,
            "justify_content": null,
            "justify_items": null,
            "left": null,
            "margin": null,
            "max_height": null,
            "max_width": null,
            "min_height": null,
            "min_width": null,
            "object_fit": null,
            "object_position": null,
            "order": null,
            "overflow": null,
            "overflow_x": null,
            "overflow_y": null,
            "padding": null,
            "right": null,
            "top": null,
            "visibility": null,
            "width": null
          }
        },
        "66aed840b8af4d7e894ea01789b6925a": {
          "model_module": "@jupyter-widgets/base",
          "model_name": "LayoutModel",
          "model_module_version": "1.2.0",
          "state": {
            "_model_module": "@jupyter-widgets/base",
            "_model_module_version": "1.2.0",
            "_model_name": "LayoutModel",
            "_view_count": null,
            "_view_module": "@jupyter-widgets/base",
            "_view_module_version": "1.2.0",
            "_view_name": "LayoutView",
            "align_content": null,
            "align_items": null,
            "align_self": null,
            "border": null,
            "bottom": null,
            "display": null,
            "flex": null,
            "flex_flow": null,
            "grid_area": null,
            "grid_auto_columns": null,
            "grid_auto_flow": null,
            "grid_auto_rows": null,
            "grid_column": null,
            "grid_gap": null,
            "grid_row": null,
            "grid_template_areas": null,
            "grid_template_columns": null,
            "grid_template_rows": null,
            "height": null,
            "justify_content": null,
            "justify_items": null,
            "left": null,
            "margin": null,
            "max_height": null,
            "max_width": null,
            "min_height": null,
            "min_width": null,
            "object_fit": null,
            "object_position": null,
            "order": null,
            "overflow": null,
            "overflow_x": null,
            "overflow_y": null,
            "padding": null,
            "right": null,
            "top": null,
            "visibility": null,
            "width": null
          }
        },
        "8dda67aaf31e439e84674b507d532dc2": {
          "model_module": "@jupyter-widgets/controls",
          "model_name": "DescriptionStyleModel",
          "model_module_version": "1.5.0",
          "state": {
            "_model_module": "@jupyter-widgets/controls",
            "_model_module_version": "1.5.0",
            "_model_name": "DescriptionStyleModel",
            "_view_count": null,
            "_view_module": "@jupyter-widgets/base",
            "_view_module_version": "1.2.0",
            "_view_name": "StyleView",
            "description_width": ""
          }
        },
        "ec85443c3f584d7791568531c65fd85d": {
          "model_module": "@jupyter-widgets/base",
          "model_name": "LayoutModel",
          "model_module_version": "1.2.0",
          "state": {
            "_model_module": "@jupyter-widgets/base",
            "_model_module_version": "1.2.0",
            "_model_name": "LayoutModel",
            "_view_count": null,
            "_view_module": "@jupyter-widgets/base",
            "_view_module_version": "1.2.0",
            "_view_name": "LayoutView",
            "align_content": null,
            "align_items": null,
            "align_self": null,
            "border": null,
            "bottom": null,
            "display": null,
            "flex": null,
            "flex_flow": null,
            "grid_area": null,
            "grid_auto_columns": null,
            "grid_auto_flow": null,
            "grid_auto_rows": null,
            "grid_column": null,
            "grid_gap": null,
            "grid_row": null,
            "grid_template_areas": null,
            "grid_template_columns": null,
            "grid_template_rows": null,
            "height": null,
            "justify_content": null,
            "justify_items": null,
            "left": null,
            "margin": null,
            "max_height": null,
            "max_width": null,
            "min_height": null,
            "min_width": null,
            "object_fit": null,
            "object_position": null,
            "order": null,
            "overflow": null,
            "overflow_x": null,
            "overflow_y": null,
            "padding": null,
            "right": null,
            "top": null,
            "visibility": null,
            "width": null
          }
        },
        "278a55adf7414065af25a3249d0095a9": {
          "model_module": "@jupyter-widgets/controls",
          "model_name": "ProgressStyleModel",
          "model_module_version": "1.5.0",
          "state": {
            "_model_module": "@jupyter-widgets/controls",
            "_model_module_version": "1.5.0",
            "_model_name": "ProgressStyleModel",
            "_view_count": null,
            "_view_module": "@jupyter-widgets/base",
            "_view_module_version": "1.2.0",
            "_view_name": "StyleView",
            "bar_color": null,
            "description_width": ""
          }
        },
        "fdca3d05aa3f45e295059a0b8995ee98": {
          "model_module": "@jupyter-widgets/base",
          "model_name": "LayoutModel",
          "model_module_version": "1.2.0",
          "state": {
            "_model_module": "@jupyter-widgets/base",
            "_model_module_version": "1.2.0",
            "_model_name": "LayoutModel",
            "_view_count": null,
            "_view_module": "@jupyter-widgets/base",
            "_view_module_version": "1.2.0",
            "_view_name": "LayoutView",
            "align_content": null,
            "align_items": null,
            "align_self": null,
            "border": null,
            "bottom": null,
            "display": null,
            "flex": null,
            "flex_flow": null,
            "grid_area": null,
            "grid_auto_columns": null,
            "grid_auto_flow": null,
            "grid_auto_rows": null,
            "grid_column": null,
            "grid_gap": null,
            "grid_row": null,
            "grid_template_areas": null,
            "grid_template_columns": null,
            "grid_template_rows": null,
            "height": null,
            "justify_content": null,
            "justify_items": null,
            "left": null,
            "margin": null,
            "max_height": null,
            "max_width": null,
            "min_height": null,
            "min_width": null,
            "object_fit": null,
            "object_position": null,
            "order": null,
            "overflow": null,
            "overflow_x": null,
            "overflow_y": null,
            "padding": null,
            "right": null,
            "top": null,
            "visibility": null,
            "width": null
          }
        },
        "1d6a6b309b0b4a68b23ba56a910a0d3a": {
          "model_module": "@jupyter-widgets/controls",
          "model_name": "DescriptionStyleModel",
          "model_module_version": "1.5.0",
          "state": {
            "_model_module": "@jupyter-widgets/controls",
            "_model_module_version": "1.5.0",
            "_model_name": "DescriptionStyleModel",
            "_view_count": null,
            "_view_module": "@jupyter-widgets/base",
            "_view_module_version": "1.2.0",
            "_view_name": "StyleView",
            "description_width": ""
          }
        }
      }
    },
    "accelerator": "GPU"
  },
  "nbformat": 4,
  "nbformat_minor": 0
}